{
  "nbformat": 4,
  "nbformat_minor": 0,
  "metadata": {
    "colab": {
      "provenance": []
    },
    "kernelspec": {
      "name": "python3",
      "display_name": "Python 3"
    },
    "language_info": {
      "name": "python"
    }
  },
  "cells": [
    {
      "cell_type": "markdown",
      "source": [
        "# CSE 6240 Web Search and Text Mining\n",
        "## Homework 2: Web Networks\n",
        "\n",
        "This homework asks you to perform network analysis on a real world networks."
      ],
      "metadata": {
        "id": "vSMfSPbZgx7X"
      }
    },
    {
      "cell_type": "code",
      "source": [
        "# imports \n",
        "import networkx as nx\n",
        "import numpy as np\n",
        "import matplotlib.pyplot as plt\n",
        "import math\n",
        "import csv\n",
        "import re"
      ],
      "metadata": {
        "id": "LvP9Qfv0hK_t"
      },
      "execution_count": null,
      "outputs": []
    },
    {
      "cell_type": "markdown",
      "source": [
        "## Part 1: Setup and basics [0.5 points]\n",
        "\n",
        "In this section, we load the network that we will use throughout this assignment. We will use a large web network from Stanford. \n",
        "The following cell will download the network in your current directory. If it does not work, please download the zip file from [here](https://snap.stanford.edu/data/web-Stanford.txt.gz) and extract."
      ],
      "metadata": {
        "id": "7tBVf2EAhoCn"
      }
    },
    {
      "cell_type": "code",
      "source": [
        "!wget https://snap.stanford.edu/data/web-Stanford.txt.gz\n",
        "!gzip -d web-Stanford.txt.gz"
      ],
      "metadata": {
        "id": "zBme5ddFhm9l",
        "colab": {
          "base_uri": "https://localhost:8080/"
        },
        "outputId": "f9a4d205-ff1b-4248-a686-2323da423235"
      },
      "execution_count": null,
      "outputs": [
        {
          "output_type": "stream",
          "name": "stdout",
          "text": [
            "--2023-02-07 01:19:49--  https://snap.stanford.edu/data/web-Stanford.txt.gz\n",
            "Resolving snap.stanford.edu (snap.stanford.edu)... 171.64.75.80\n",
            "Connecting to snap.stanford.edu (snap.stanford.edu)|171.64.75.80|:443... connected.\n",
            "HTTP request sent, awaiting response... 200 OK\n",
            "Length: 8908378 (8.5M) [application/x-gzip]\n",
            "Saving to: ‘web-Stanford.txt.gz’\n",
            "\n",
            "web-Stanford.txt.gz 100%[===================>]   8.50M  2.85MB/s    in 3.0s    \n",
            "\n",
            "2023-02-07 01:19:52 (2.85 MB/s) - ‘web-Stanford.txt.gz’ saved [8908378/8908378]\n",
            "\n"
          ]
        }
      ]
    },
    {
      "cell_type": "markdown",
      "source": [
        "This Stanford web network can be described as follows:\n",
        "\n",
        "- A node in the network represents a web page\n",
        "- An edge (directed) represents a hyperlink between web pages\n",
        "\n",
        "There is other information related to the nodes in the data you just downloaded, but for the purposes of this assignment we will ignore it."
      ],
      "metadata": {
        "id": "zFzf9NmIrBCs"
      }
    },
    {
      "cell_type": "markdown",
      "source": [
        "Let's take a quick peek at the network data."
      ],
      "metadata": {
        "id": "LKNPNbx4tDP9"
      }
    },
    {
      "cell_type": "code",
      "source": [
        "! head -n 10 web-Stanford.txt"
      ],
      "metadata": {
        "id": "6V6HQwoLqgv-",
        "colab": {
          "base_uri": "https://localhost:8080/"
        },
        "outputId": "2eaf737d-7962-41d7-da0a-d0b85e69b21b"
      },
      "execution_count": null,
      "outputs": [
        {
          "output_type": "stream",
          "name": "stdout",
          "text": [
            "# Directed graph (each unordered pair of nodes is saved once): web-Stanford.txt \r\n",
            "# Stanford web graph from 2002\r\n",
            "# Nodes: 281903 Edges: 2312497\r\n",
            "# FromNodeId\tToNodeId\r\n",
            "1\t6548\r\n",
            "1\t15409\r\n",
            "6548\t57031\r\n",
            "15409\t13102\r\n",
            "2\t17794\r\n",
            "2\t25202\r\n"
          ]
        }
      ]
    },
    {
      "cell_type": "markdown",
      "source": [
        "### 1.1 Load Network [0.1 points]\n",
        "\n",
        "We can see here that this is a directed graph. Let's build one using `networkx` now. Keep in mind two things: (1) the extra lines at the top of the file and (2) the data is tab separated. Initialize the graph as a `networkx` directed graph.\n"
      ],
      "metadata": {
        "id": "GbrmbnVatIVH"
      }
    },
    {
      "cell_type": "code",
      "source": [
        "def load_net (filename):\n",
        "  \"\"\"\n",
        "  Arguments\n",
        "  ---------\n",
        "  filename (str): The name of the file which \n",
        "  contains the edge data.\n",
        "\n",
        "  Returns\n",
        "  -------\n",
        "  networkx.DiGraph\n",
        "  \"\"\"\n",
        "\n",
        "  #net = None\n",
        "   ## Add code below to build the graph ##\n",
        "  net = nx.DiGraph()\n",
        "  file = open(filename, mode='r')\n",
        "  lines = file.readlines()\n",
        "\n",
        "  for i in range(4, len(lines)):\n",
        "    row = lines[i]\n",
        "    e = row.split('\\t')\n",
        "    net.add_edge(e[0], e[1][:-1])\n",
        "\n",
        "  #################################\n",
        "  return net"
      ],
      "metadata": {
        "id": "EFxXP-qhqxVx"
      },
      "execution_count": null,
      "outputs": []
    },
    {
      "cell_type": "code",
      "source": [
        "net = load_net ('web-Stanford.txt')"
      ],
      "metadata": {
        "id": "epO4lrsbxTVK"
      },
      "execution_count": null,
      "outputs": []
    },
    {
      "cell_type": "markdown",
      "source": [
        "### 1.2 Calculate network properties [0.4 points]\n",
        "\n",
        "Here you'll use `networkx` functions to calculate for a few network statistics: \\\n",
        "\n",
        "*   Number of nodes in the network\n",
        "*   Number of edges in the network\n",
        "*   Number of nodes in the largest weakly connected component\n",
        "*   Number of nodes in the largest strongly connected component   \n"
      ],
      "metadata": {
        "id": "xmLTWlTszsWD"
      }
    },
    {
      "cell_type": "code",
      "source": [
        "def print_network_statistics (net):\n",
        "  \"\"\"\n",
        "  Arguments\n",
        "  ---------\n",
        "  net (networkx.Graph): The network whose \n",
        "  statistics are to be printed.\n",
        "\n",
        "  Return\n",
        "  ------\n",
        "  None\n",
        "  \"\"\"\n",
        "  num_nodes = None\n",
        "  num_edges = None\n",
        "  nodes_in_largest_strong_component = None\n",
        "  nodes_in_largest_weak_component = None\n",
        "  \n",
        "  ## Add code to compute the network statistics ##\n",
        "  num_nodes = net.number_of_nodes()\n",
        "  num_edges = net.number_of_edges()\n",
        "  \n",
        "  largest_weak_comp = max(nx.weakly_connected_components(net),key=len)\n",
        "  nodes_in_largest_weak_component = len(largest_weak_comp)\n",
        "\n",
        "  largest_strong_comp = max(nx.strongly_connected_components(net),key=len)\n",
        "  nodes_in_largest_strong_component = len(largest_strong_comp)\n",
        "\n",
        "  #############################################################\n",
        "\n",
        "  ##### DO NOT MODIFY THIS SECTION -- SANITY CHECK #####\n",
        "  print (f'=== Network statistics: SANITY CHECK ===')\n",
        "\n",
        "  print (f'Number of nodes in the network: {num_nodes}, {num_nodes == 281903}') \n",
        "  print (f'Number of edges in the network: {num_edges}, {num_edges == 2312497}')  \n",
        "  print (f'Number of nodes in the largest strongly connected component: {nodes_in_largest_strong_component}, {nodes_in_largest_strong_component == 150532}')  \n",
        "  print (f'Number of nodes in the largest weakly connected component: {nodes_in_largest_weak_component}, {nodes_in_largest_weak_component == 255265}')  \n",
        "\n",
        "  print (f'======')"
      ],
      "metadata": {
        "id": "T2WzeFPJzOd1"
      },
      "execution_count": null,
      "outputs": []
    },
    {
      "cell_type": "code",
      "source": [
        "# RUN THIS CELL TO SEE SANITY CHECK\n",
        "print_network_statistics(net)"
      ],
      "metadata": {
        "id": "VHmPWIxNL7B7",
        "colab": {
          "base_uri": "https://localhost:8080/"
        },
        "outputId": "04078d8a-ed3c-402f-f872-1a194a4d858e"
      },
      "execution_count": null,
      "outputs": [
        {
          "output_type": "stream",
          "name": "stdout",
          "text": [
            "=== Network statistics: SANITY CHECK ===\n",
            "Number of nodes in the network: 281903, True\n",
            "Number of edges in the network: 2312497, True\n",
            "Number of nodes in the largest strongly connected component: 150532, True\n",
            "Number of nodes in the largest weakly connected component: 255265, True\n",
            "======\n"
          ]
        }
      ]
    },
    {
      "cell_type": "markdown",
      "source": [
        "## Part 2: Strongly Connected Components [1.5 points]\n",
        "\n",
        "As we saw in class, finding the SCC that a node is a part found by findng the intersection of OUT(A, G) and IN(A, G). You will implement that here."
      ],
      "metadata": {
        "id": "UqN9u7iY2ZG1"
      }
    },
    {
      "cell_type": "markdown",
      "source": [
        "## 2.1 Finding the SCC of nodes\n",
        "\n",
        "The steps to finding the SCC of a node are to:\n",
        "\n",
        "\n",
        "1.   Find the set $IN(A, G)$\n",
        "2.   Find the set $OUT(A, G)$\n",
        "3.   Find the intersection of $IN(A, G)$ and $OUT(A, G)$\n"
      ],
      "metadata": {
        "id": "BOZmFH9z2Tu7"
      }
    },
    {
      "cell_type": "markdown",
      "source": [
        "### Step 1: Find the set of nodes going 'into' a node. [0.2 points]\n",
        "\n",
        "\n"
      ],
      "metadata": {
        "id": "8c6GjcqdQgA3"
      }
    },
    {
      "cell_type": "code",
      "source": [
        "def find_in_node (node, net):\n",
        "  \"\"\"\n",
        "  Arguments\n",
        "  ---------\n",
        "  node (str): the id of node we're finding the SCC for\n",
        "  net (networkx.Graph): the Stanford network we loaded earlier\n",
        "\n",
        "  Returns\n",
        "  -------\n",
        "  node_in (list): list of nodes that can reach 'node'\n",
        "  \"\"\"\n",
        "  node_in = []\n",
        "  ## Add code below ##\n",
        "\n",
        "  # in_edges = net.in_edges(node)\n",
        "  # for i in in_edges:\n",
        "  #   node_in.append(i[0])\n",
        "\n",
        "\n",
        "  node_in = list(nx.shortest_path(net.reverse(), node).keys())\n",
        "  \n",
        "  #################################\n",
        "  return node_in"
      ],
      "metadata": {
        "id": "jp-YSwru2UJd"
      },
      "execution_count": null,
      "outputs": []
    },
    {
      "cell_type": "markdown",
      "source": [
        "### Step 2: Find the set of nodes going 'out of' a node. [0.2 points]"
      ],
      "metadata": {
        "id": "EgaJJOH9Qq0z"
      }
    },
    {
      "cell_type": "code",
      "source": [
        "def find_out_node (node, net):\n",
        "  \"\"\"\n",
        "  Arguments\n",
        "  ---------\n",
        "  node (str): the id of node we're finding the SCC for\n",
        "  net (networkx.Graph): the Stanford network we loaded earlier\n",
        "\n",
        "  Returns\n",
        "  -------\n",
        "  node_out (list): list of nodes that can be reached from 'node'\n",
        "  \"\"\"\n",
        "  node_out = None\n",
        "  ## Add code below ##\n",
        "  node_out = list(nx.shortest_path(net, node).keys())\n",
        "\n",
        "  #################################\n",
        "  return node_out"
      ],
      "metadata": {
        "id": "wCUCfSid3qSL"
      },
      "execution_count": null,
      "outputs": []
    },
    {
      "cell_type": "markdown",
      "source": [
        "### Step 3: Use the code above to get the SCC for a node. [0.2 points]"
      ],
      "metadata": {
        "id": "eyHvdJjVQvG4"
      }
    },
    {
      "cell_type": "code",
      "source": [
        "def get_scc (node, net):\n",
        "  \"\"\"\n",
        "  Arguments\n",
        "  ---------\n",
        "  node (str): the id of node we're finding the SCC for\n",
        "  net (networkx.Graph): the Stanford network we loaded earlier\n",
        "\n",
        "  Returns\n",
        "  -------\n",
        "  scc (list): set of nodes in the scc of 'node'\n",
        "  \"\"\"\n",
        "  #scc = []\n",
        "  ## Add code below ##\n",
        "  in_nodes = find_in_node(node, net)\n",
        "  out_nodes = find_out_node(node, net)\n",
        "\n",
        "  scc = list(set(in_nodes) & set(out_nodes))\n",
        "\n",
        "  #################################]\n",
        "  return scc"
      ],
      "metadata": {
        "id": "dGEh9XXI3u0X"
      },
      "execution_count": null,
      "outputs": []
    },
    {
      "cell_type": "markdown",
      "source": [
        "Sanity check: find some SCCs.\n",
        "\n"
      ],
      "metadata": {
        "id": "_0K3YirYNLsD"
      }
    },
    {
      "cell_type": "code",
      "source": [
        "## DO NOT MODIFY -- SANITY CHECK ##\n",
        "print(f'Number of nodes in SCC of node 45087: {len(get_scc(str(45087), net))},  {len(get_scc(str(45087), net)) == 150532}')\n",
        "print(f'Number of nodes in SCC of node 2: {len(get_scc(str(2), net))},  {len(get_scc(str(2), net)) == 150532}')"
      ],
      "metadata": {
        "id": "l1LWRytlNKlx",
        "colab": {
          "base_uri": "https://localhost:8080/"
        },
        "outputId": "7a85a135-40ce-4413-f4dc-4b69cb9e3735"
      },
      "execution_count": null,
      "outputs": [
        {
          "output_type": "stream",
          "name": "stdout",
          "text": [
            "Number of nodes in SCC of node 45087: 150532,  True\n",
            "Number of nodes in SCC of node 2: 150532,  True\n"
          ]
        }
      ]
    },
    {
      "cell_type": "markdown",
      "source": [
        "### 2.2 Distribution Visualization [0.9 points]\n",
        "\n",
        "We saw an $IN(v)$ distribution graph in class. This type of visualization shows us the number of nodes reached by percentage of starting nodes in networks.\n",
        "\n",
        "Using the function `find_out_node`, create a distribution plot (using out-links only) with the fraction of starting nodes as the x-axis and the number of nodes reached as the y-axis (reference slide 23 on web-networks.pdf on Canvas to see an example).\n",
        "\n",
        "To decrease runtime, do this for the first **100** nodes in the network. Return your x-axis and y-axis values.\n",
        "\n",
        "Some hints: (1) the plot should plateau when the number of nodes reached hits the number of nodes in the network, (2) since the first few nodes are in the largest SCC, the number of nodes reached in the plot should shoot up very quickly"
      ],
      "metadata": {
        "id": "gajVn4Sc4111"
      }
    },
    {
      "cell_type": "code",
      "source": [
        "def plot_in_distribution(net):\n",
        "  \"\"\"\n",
        "  Arguments\n",
        "  ---------\n",
        "  net (networkx.Graph): the Stanford network we loaded earlier\n",
        "  \"\"\" \n",
        "  # Note: sort the list of nodes (by node id, in ascending order) before iterating over them \n",
        "  frac_nodes = []\n",
        "  nodes_reached = []\n",
        "  ## Add code below ## \n",
        "\n",
        "  #nodes = list(net.nodes)[0:10]\n",
        "  num_nodes = net.number_of_nodes()\n",
        "  nodes_int = sorted([int(i) for i in net.nodes])\n",
        "  nodes = [str(i) for i in nodes_int[0:100]]\n",
        "\n",
        "  reached_nodes = set(find_out_node(nodes[0], net))\n",
        "\n",
        "  for n in range(len(nodes)):\n",
        "    n_reaches_nodes = find_out_node(nodes[n], net)\n",
        "    reached_nodes = reached_nodes.union(set(n_reaches_nodes))\n",
        "    \n",
        "    ## check for path to self\n",
        "    if nx.has_path(net, nodes[n], nodes[n]):\n",
        "      new_nodes_reached = len(reached_nodes)-1\n",
        "    else:\n",
        "      new_nodes_reached = len(reached_nodes)\n",
        "    \n",
        "    ## append the min(nodes reached, total number of nodes)\n",
        "    if n == 0:\n",
        "      nodes_reached.append(new_nodes_reached)\n",
        "    else:\n",
        "      nodes_reached.append(min(nodes_reached[n-1] + new_nodes_reached, num_nodes))\n",
        "    \n",
        "    frac_nodes.append(n / num_nodes) \n",
        "\n",
        "  \n",
        "  ####################\n",
        "  return frac_nodes, nodes_reached"
      ],
      "metadata": {
        "id": "7k6J5cgw596I"
      },
      "execution_count": null,
      "outputs": []
    },
    {
      "cell_type": "code",
      "source": [
        "# Plot the distribution by running this cell-- Note: may take 2-3 minutes to compute, so be aware of that when debugging\n",
        "frac_nodes, nodes_reached = plot_in_distribution(net)"
      ],
      "metadata": {
        "id": "lIwLtSJL65E5"
      },
      "execution_count": null,
      "outputs": []
    },
    {
      "cell_type": "markdown",
      "source": [
        "NOTE: I changed the following sanity check based on the announcement made on this question as well as the piazza post. I accepted duplicates and excluded self-paths when counting nodes reached"
      ],
      "metadata": {
        "id": "Ed5cYFdZIwpd"
      }
    },
    {
      "cell_type": "code",
      "source": [
        "## DO NOT MODIFY -- SANITY CHECK ##\n",
        "\n",
        "\n",
        "frac_tf = np.isclose([0.00000000e+00, 3.54731947e-06, 7.09463894e-06, 1.06419584e-05,\n",
        "       1.41892779e-05, 1.77365973e-05, 2.12839168e-05, 2.48312363e-05,\n",
        "       2.83785557e-05, 3.19258752e-05, 3.54731947e-05, 3.90205141e-05,\n",
        "       4.25678336e-05, 4.61151531e-05, 4.96624726e-05, 5.32097920e-05,\n",
        "       5.67571115e-05, 6.03044310e-05, 6.38517504e-05, 6.73990699e-05,\n",
        "       7.09463894e-05, 7.44937088e-05, 7.80410283e-05, 8.15883478e-05,\n",
        "       8.51356672e-05, 8.86829867e-05, 9.22303062e-05, 9.57776256e-05,\n",
        "       9.93249451e-05, 1.02872265e-04, 1.06419584e-04, 1.09966904e-04,\n",
        "       1.13514223e-04, 1.17061542e-04, 1.20608862e-04, 1.24156181e-04,\n",
        "       1.27703501e-04, 1.31250820e-04, 1.34798140e-04, 1.38345459e-04,\n",
        "       1.41892779e-04, 1.45440098e-04, 1.48987418e-04, 1.52534737e-04,\n",
        "       1.56082057e-04, 1.59629376e-04, 1.63176696e-04, 1.66724015e-04,\n",
        "       1.70271334e-04, 1.73818654e-04, 1.77365973e-04, 1.80913293e-04,\n",
        "       1.84460612e-04, 1.88007932e-04, 1.91555251e-04, 1.95102571e-04,\n",
        "       1.98649890e-04, 2.02197210e-04, 2.05744529e-04, 2.09291849e-04,\n",
        "       2.12839168e-04, 2.16386488e-04, 2.19933807e-04, 2.23481126e-04,\n",
        "       2.27028446e-04, 2.30575765e-04, 2.34123085e-04, 2.37670404e-04,\n",
        "       2.41217724e-04, 2.44765043e-04, 2.48312363e-04, 2.51859682e-04,\n",
        "       2.55407002e-04, 2.58954321e-04, 2.62501641e-04, 2.66048960e-04,\n",
        "       2.69596280e-04, 2.73143599e-04, 2.76690919e-04, 2.80238238e-04,\n",
        "       2.83785557e-04, 2.87332877e-04, 2.90880196e-04, 2.94427516e-04,\n",
        "       2.97974835e-04, 3.01522155e-04, 3.05069474e-04, 3.08616794e-04,\n",
        "       3.12164113e-04, 3.15711433e-04, 3.19258752e-04, 3.22806072e-04,\n",
        "       3.26353391e-04, 3.29900711e-04, 3.33448030e-04, 3.36995349e-04,\n",
        "       3.40542669e-04, 3.44089988e-04, 3.47637308e-04, 3.51184627e-04,\n",
        "       ], frac_nodes, atol=0.0000001).all()\n",
        "reached_tf = nodes_reached == [    28,     218076, 281903, 281903, 281903, 281903, 281903, 281903,\n",
        "       281903, 281903, 281903, 281903, 281903, 281903, 281903, 281903,\n",
        "       281903, 281903, 281903, 281903, 281903, 281903, 281903, 281903,\n",
        "       281903, 281903, 281903, 281903, 281903, 281903, 281903, 281903,\n",
        "       281903, 281903, 281903, 281903, 281903, 281903, 281903, 281903,\n",
        "       281903, 281903, 281903, 281903, 281903, 281903, 281903, 281903,\n",
        "       281903, 281903, 281903, 281903, 281903, 281903, 281903, 281903,\n",
        "       281903, 281903, 281903, 281903, 281903, 281903, 281903, 281903,\n",
        "       281903, 281903, 281903, 281903, 281903, 281903, 281903, 281903,\n",
        "       281903, 281903, 281903, 281903, 281903, 281903, 281903, 281903,\n",
        "       281903, 281903, 281903, 281903, 281903, 281903, 281903, 281903,\n",
        "       281903, 281903, 281903, 281903, 281903, 281903, 281903, 281903,\n",
        "       281903, 281903, 281903, 281903]\n",
        "\n",
        "\n",
        "print(f'Fraction of nodes list passes test: {frac_tf}')\n",
        "print(f'Nodes reached list passes test: {reached_tf}')"
      ],
      "metadata": {
        "id": "xuIE25jCBDao",
        "colab": {
          "base_uri": "https://localhost:8080/"
        },
        "outputId": "79c385c7-e533-43ec-915b-8d9e982cc327"
      },
      "execution_count": null,
      "outputs": [
        {
          "output_type": "stream",
          "name": "stdout",
          "text": [
            "Fraction of nodes list passes test: True\n",
            "Nodes reached list passes test: True\n"
          ]
        }
      ]
    },
    {
      "cell_type": "markdown",
      "source": [
        "## Part 3: Supernode Graphs [3.5 points]\n",
        "\n",
        "Now that we've played around with finding the SCCs of individual nodes, we're ready to do it at scale. \\\n",
        "\n",
        "In a large network, each of its SCCs can be represented by one **supernode**. Those SCCs can then be represented in a new, smaller graph called a **supernode graph**.  This can significantly decrease the size of a network and make visualizing it much simpler. It can also make categorizing relationships between nodes more straightforward. \\\n",
        "\n",
        "In the below functions, you'll create a supernode graph from a college messaging network. You can do this by (1) initializing a new graph, (2) finding the connected components of each node in the email network, (3) sorting those nodes by id, and (4) creating a supernode in the graph out of each connected component (you can do this by **contracting** the sorted list of nodes into the first (smallest) node in the connected component. This means that for each supernode in the graph, it's label will be given by the node with the smallest id in its SCC). \n",
        "\n",
        "Feel free to use `networkx` functions or your own logic to complete this section."
      ],
      "metadata": {
        "id": "V1nC8f3Q7W3P"
      }
    },
    {
      "cell_type": "markdown",
      "source": [
        "Hint: supernodes can only be created from undirected graphs."
      ],
      "metadata": {
        "id": "BsNVBsnmDpun"
      }
    },
    {
      "cell_type": "markdown",
      "source": [
        "### 3.1 Load a new network [1 point]\n",
        "\n",
        "We'll first load a smaller messaging network to build and do this with."
      ],
      "metadata": {
        "id": "034cBwY7CQPy"
      }
    },
    {
      "cell_type": "code",
      "source": [
        "!wget https://snap.stanford.edu/data/CollegeMsg.txt.gz\n",
        "!gzip -d CollegeMsg.txt.gz"
      ],
      "metadata": {
        "id": "9QhHspRGb5E_",
        "colab": {
          "base_uri": "https://localhost:8080/"
        },
        "outputId": "95678508-5e55-44c7-ee65-1797e5e4d02b"
      },
      "execution_count": null,
      "outputs": [
        {
          "output_type": "stream",
          "name": "stdout",
          "text": [
            "--2023-02-07 01:25:08--  https://snap.stanford.edu/data/CollegeMsg.txt.gz\n",
            "Resolving snap.stanford.edu (snap.stanford.edu)... 171.64.75.80\n",
            "Connecting to snap.stanford.edu (snap.stanford.edu)|171.64.75.80|:443... connected.\n",
            "HTTP request sent, awaiting response... 200 OK\n",
            "Length: 345339 (337K) [application/x-gzip]\n",
            "Saving to: ‘CollegeMsg.txt.gz’\n",
            "\n",
            "CollegeMsg.txt.gz   100%[===================>] 337.25K   474KB/s    in 0.7s    \n",
            "\n",
            "2023-02-07 01:25:09 (474 KB/s) - ‘CollegeMsg.txt.gz’ saved [345339/345339]\n",
            "\n"
          ]
        }
      ]
    },
    {
      "cell_type": "markdown",
      "source": [
        "The edge data in this college messaging dataset is formatted as such (note that it is space-separated): \\\n",
        "\n",
        "\n",
        "```\n",
        "source_node target_node timestamp\n",
        "```\n",
        "\n",
        "For the purposes of this assignment, we'll only need node and edge data (you can ignore the timestamps).\n",
        "\n"
      ],
      "metadata": {
        "id": "aDxpedxPfeES"
      }
    },
    {
      "cell_type": "code",
      "source": [
        "def load_data(filename):\n",
        "  \"\"\"\n",
        "  Arguments\n",
        "  ---------\n",
        "  filename (str): The name of the file which \n",
        "  contains the edge data.\n",
        "\n",
        "  Returns\n",
        "  -------\n",
        "  networkx.Graph \n",
        "  \"\"\"\n",
        "\n",
        "  small_net = None\n",
        "  ## Add code below  ##\n",
        "  small_net = nx.Graph()\n",
        "  file = open(filename, mode='r')\n",
        "  lines = file.readlines()\n",
        "  \n",
        "  for i in range(len(lines)):\n",
        "    row = lines[i]\n",
        "    e = row.split(' ')\n",
        "    small_net.add_edge(e[0], e[1])\n",
        "  \n",
        "\n",
        "  #################################\n",
        "\n",
        "  return small_net"
      ],
      "metadata": {
        "id": "7m2q9wnGESDY"
      },
      "execution_count": null,
      "outputs": []
    },
    {
      "cell_type": "code",
      "source": [
        "# Load the network by running this cell\n",
        "small_net = load_data('CollegeMsg.txt')"
      ],
      "metadata": {
        "id": "7bBJU_0zKGuT"
      },
      "execution_count": null,
      "outputs": []
    },
    {
      "cell_type": "code",
      "source": [
        "## DO NOT MODIFY -- SANITY CHECK ##\n",
        "# Let's check the number of nodes and edges in the graph to make sure we loaded it correctly \n",
        "print(f'Number of nodes in the messaging network: {len(small_net.nodes())}, {len(small_net.nodes()) == 1899}')\n",
        "print(f'Number of nodes in the messaging network: {len(small_net.edges())}, {len(small_net.edges()) == 13838}')"
      ],
      "metadata": {
        "id": "25tiNt9zgh3r",
        "colab": {
          "base_uri": "https://localhost:8080/"
        },
        "outputId": "3bba9cc3-dcab-4db7-f894-17e1f6b13ad9"
      },
      "execution_count": null,
      "outputs": [
        {
          "output_type": "stream",
          "name": "stdout",
          "text": [
            "Number of nodes in the messaging network: 1899, True\n",
            "Number of nodes in the messaging network: 13838, True\n"
          ]
        }
      ]
    },
    {
      "cell_type": "markdown",
      "source": [
        "### 3.2 Conversion to Supernode Graph [2 points]\n",
        "\n",
        "In the function below, write a function to create a supernode graph from the graph we just built.\n",
        "\n",
        "\n",
        "*   A node should be an $SCC$ in the graph small_net\n",
        "*   An edge should be a link between $SCC$s in the graph `small_net`\n",
        "\n",
        "Hint: When initializing `supernode_graph`, you should create a copy of `small_net`.\n",
        "\n"
      ],
      "metadata": {
        "id": "LjkZrTTnMHfk"
      }
    },
    {
      "cell_type": "code",
      "source": [
        "def to_supernode(small_net):\n",
        "  \"\"\"\n",
        "  Arguments\n",
        "  ---------\n",
        "  small_net (networkx.Graph): the messaging network we loaded earlier\n",
        "\n",
        "  Returns\n",
        "  -------\n",
        "  supernode_graph (networkx.Graph): new supernode graph\n",
        "  \"\"\"\n",
        "  supernode_graph = small_net\n",
        "  ## Add code below ##\n",
        "\n",
        "  #find SCCs\n",
        "  all_scc = list(nx.connected_components(supernode_graph))\n",
        "  \n",
        "  #contract nodes in each scc\n",
        "  for supernode in all_scc:\n",
        "    nodes = sorted(list(supernode))\n",
        "    for n in nodes[1:]:\n",
        "        supernode_graph = nx.contracted_nodes(supernode_graph, nodes[0], n, self_loops=False)  \n",
        " \n",
        "  \n",
        "  #################################\n",
        "\n",
        "  return supernode_graph"
      ],
      "metadata": {
        "id": "IsbT0Q5QBZMU"
      },
      "execution_count": null,
      "outputs": []
    },
    {
      "cell_type": "code",
      "source": [
        "# Create the supernode graph by runnning this cell-- Note: may take 2-3 minutes to compute, so be aware of that when debugging\n",
        "supernode_graph = to_supernode(small_net)"
      ],
      "metadata": {
        "id": "KMmJhjQgP2Sr"
      },
      "execution_count": null,
      "outputs": []
    },
    {
      "cell_type": "markdown",
      "source": [
        "NOTE: I modified the following sanity check based on the Canvas announcement that was made."
      ],
      "metadata": {
        "id": "c5clzQ-TOXkV"
      }
    },
    {
      "cell_type": "code",
      "source": [
        "## DO NOT MODIFY -- SANITY CHECK ##\n",
        "# Let's check the number of nodes and edges in the graph to make sure we loaded it correctly \n",
        "print(f'Number of nodes in the supernode graph: {len(supernode_graph.nodes())}, {len(supernode_graph.nodes()) == 4}')\n",
        "print(f'Number of egdes in the supernode graph: {len(supernode_graph.edges())}, {len(supernode_graph.edges()) == 0}')"
      ],
      "metadata": {
        "id": "exdASt4tGBEu",
        "colab": {
          "base_uri": "https://localhost:8080/"
        },
        "outputId": "eab4357c-e86b-4398-d435-1ecd71d0e935"
      },
      "execution_count": null,
      "outputs": [
        {
          "output_type": "stream",
          "name": "stdout",
          "text": [
            "Number of nodes in the supernode graph: 4, True\n",
            "Number of egdes in the supernode graph: 0, True\n"
          ]
        }
      ]
    },
    {
      "cell_type": "markdown",
      "source": [
        "### 3.3 Visualization [0.5 point]\n",
        "\n",
        "Visualize the new supernode graph and write a few sentences about it. Answers should include:\n",
        "\n",
        "\n",
        "\n",
        "*   Number of nodes\n",
        "*   Number of edges\n",
        "*   Observations of the graph's shape\n",
        "*   Why the graph might look the way it does\n",
        "*   What each supernode represents"
      ],
      "metadata": {
        "id": "YXoVQfaVIfSm"
      }
    },
    {
      "cell_type": "markdown",
      "source": [
        "Answer (write in this cell):\n",
        "There are 4 supernodes, each containing some connection of smaller nodes.\n",
        "\n",
        "There are 0 edges between the supernodes.\n",
        "\n",
        "The graph is just 4 separate nodes with no edge to connect them. This is because if the nodes were connected by an edge in any ways, they would cease to be individual supernodes.\n",
        "\n",
        "Each supernode represents a cluster of students in the data who have either received/sent a text to someone, who also received/sent a text to someone else, etc. The only way two of the original nodes would NOT be connected to the giant supernode is if two people only text each other. Basically, mostly everyone knows/texts everyone."
      ],
      "metadata": {
        "id": "5---2xZGiy6c"
      }
    },
    {
      "cell_type": "markdown",
      "source": [
        "Use the draw tool from `networkx` to visualize your network. "
      ],
      "metadata": {
        "id": "lDLxeut0ifWo"
      }
    },
    {
      "cell_type": "code",
      "source": [
        "## ADD CODE BELOW ##\n",
        "nx.draw(supernode_graph)\n",
        "########################"
      ],
      "metadata": {
        "id": "X3OUXzWv8kYt",
        "colab": {
          "base_uri": "https://localhost:8080/",
          "height": 319
        },
        "outputId": "2d3819d8-9ae6-43f4-d07e-1257fb885b4e"
      },
      "execution_count": null,
      "outputs": [
        {
          "output_type": "display_data",
          "data": {
            "text/plain": [
              "<Figure size 432x288 with 1 Axes>"
            ],
            "image/png": "[encoded data removed]"
          },
          "metadata": {}
        }
      ]
    },
    {
      "cell_type": "markdown",
      "source": [
        "### Section 4: Web Graph Connectivity [1 point]\n",
        "\n",
        "Recall the Web graph’s Bowtie Structure shown in the class slides.\n",
        "\n",
        "The web graph is directed and has three major components: $IN, SCC$, and $OUT$. The nodes in the Strongly Connected Component ($SCC$) can reach each other and can be reached from any node in $IN$. Nodes in the $SCC$ can reach any node in $OUT$.\n",
        "\n",
        "\\* For this question, we will ignore the presence of **TENDRILS**, **TUBES**, and\n",
        "**DISCONNECTED** components."
      ],
      "metadata": {
        "id": "26ZOW0OHJ2DT"
      }
    },
    {
      "cell_type": "markdown",
      "source": [
        "Question:\n",
        "\n",
        "- You randomly select two nodes $A$ and $B$ from the web graph with replacement. What is the probability that you can follow outgoing edges starting from node $A$ to reach node $B$? In this case, $A$ and $B$ could be same because of replacement. \\\\\n",
        "\n",
        " The size of $IN$, $SCC$, and $OUT$ components are represented as $|IN|$, $|SCC|$, $|OUT|$ respectively. Let the total number of nodes in the entire graph be $N (= |IN| + |SCC| + |OUT|)$. \\\\\n",
        "\n",
        " Assume the probability of a node in $IN$ reaching another node in $IN$ is $\\alpha$. Similarly, the probability of a node in $OUT$ reaching another node in $OUT$ is $\\beta$. \n",
        "\n"
      ],
      "metadata": {
        "id": "H1i1N7N5J6Ux"
      }
    },
    {
      "cell_type": "markdown",
      "source": [
        "Answer (write answer in this cell)\n",
        "\n",
        "There are nine combinations of A and B if we randomly select two nodes from the web graph with replacement. I will be calculating the probabilities using the following equation:\n",
        "\n",
        "P(A and B are chose and A reaches B) = P(A is in IN, OUT, or SCC) * P(B is in IN, OUt, or SCC) * P(A reaches B)\n",
        "\n",
        "1. P(A = IN, B = IN, A reaches B) = $\\frac{|IN|}{N}$ * $\\frac{|IN|}{N} * α$\n",
        "\n",
        "2. P(A = IN, B = OUT, A reaches B) = $\\frac{|IN|}{N}$ * $\\frac{|OUT|}{N} * 1$\n",
        "\n",
        "3. P(A = IN, B = SCC, A reaches B) = $\\frac{|IN|}{N}$ * $\\frac{|SCC|}{N} * 1$\n",
        "\n",
        "4. P(A = SCC, B = IN, A reaches B) = $\\frac{|SCC|}{N}$ * $\\frac{|IN|}{N} * 0 = 0$\n",
        "\n",
        "5. P(A = SCC, B = SCC, A reaches B) = $\\frac{|SCC|}{N}$ * $\\frac{|SCC|}{N} * 1$\n",
        "\n",
        "6. P(A = SCC, B = OUT, A reaches B) = $\\frac{|SCC|}{N}$ * $\\frac{|OUT|}{N} * 1$\n",
        "\n",
        "7. P(A = OUT, B = IN, A reaches B) = $\\frac{|OUT|}{N}$ * $\\frac{|IN|}{N} * 0 = 0$\n",
        "\n",
        "8. P(A = OUT, B = SCC, A reaches B) = $\\frac{|OUT|}{N}$ * $\\frac{|SCC|}{N} * 0 = 0$\n",
        "\n",
        "9. P(A = OUT, B = OUT, A reaches B) = $\\frac{|OUT}{N}$ * $\\frac{|OUT|}{N} * β $\n",
        "\n",
        "Summing up all of these nine cases, we get \n",
        "\n",
        "$$\\frac{|IN|^2α + |IN||OUT| + |IN||SCC| + |SCC|^2 + |SCC||OUT| + |OUT|^2 β}{N^2}$$\n",
        "\n",
        "\n",
        "\n"
      ],
      "metadata": {
        "id": "oz7X_7HJJ-rk"
      }
    },
    {
      "cell_type": "code",
      "source": [],
      "metadata": {
        "id": "tjkgF4B4Z84C"
      },
      "execution_count": null,
      "outputs": []
    }
  ]
}