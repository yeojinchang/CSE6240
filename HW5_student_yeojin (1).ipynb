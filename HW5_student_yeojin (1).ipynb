{
  "cells": [
    {
      "cell_type": "markdown",
      "metadata": {
        "id": "WuwmvfrfPiFk"
      },
      "source": [
        "# CSE 6240 Web Search and Text Mining \n",
        "# Homework 5: Graph Convolution Network\n",
        "\n",
        "This homework asks you to build Multilayer perceptron(MLP) and Graph convolution network(GCN), and compare the performance on two graph related tasks. \n",
        "\n",
        "- The first is semi-supervised node classification where given a graph with some nodes labelled, you need to find the labels of the unlabelled nodes\n",
        "\n",
        "- The second is self-supervised link prediction, where given a graph, we learn to predict whether there is a link between two nodes or not"
      ]
    },
    {
      "cell_type": "markdown",
      "metadata": {
        "id": "hRmJQh0GuHmy"
      },
      "source": [
        "# GPU Setup [0.1 points for reading and understanding]\n",
        "\n",
        "First, let us setup the GPUs on your system and the required libraries. We follow the following steps. \n",
        "1. If using Google Colab (highly recommended), enable GPU runtime. Go to Runtime -> Change Runtime type -> Select GPU as the hardware accelerator and hit Save. \n",
        "2. Then, we will install CUDA11.6 as it is not available on Colab as default. We want to install 11.6 because torch is not available for CUDA 11.8 (which is the default version). For this, we will follow the steps as provided here: https://developer.nvidia.com/cuda-11-6-0-download-archive. The following lines of code are for an Ubuntu 20.04 x86_64 machine. This is also the configuration that you'd get on Google Colab. You may want to change them to match your system configuration (don't change if on Colab). \n",
        "3. Then, we will set the environment variables (PATH and LD_LIBRARY_PATH) to take the newly installed CUDA version instead of the old versions that may already be installed. \n",
        "4. Finally, we install the torch and torch_geometric libraries. \n",
        "\n",
        "These steps should prove useful for you whenever you may want to set up GPU compatible with the libraries (for your future projects, for example) so do make a note of these instructions (even though you don't have to write any code). "
      ]
    },
    {
      "cell_type": "code",
      "execution_count": 1,
      "metadata": {
        "colab": {
          "base_uri": "https://localhost:8080/",
          "height": 0
        },
        "id": "rjmAmB5V8IOh",
        "outputId": "1c0a89ca-baa1-4ad8-8e2d-26c795eba944"
      },
      "outputs": [
        {
          "output_type": "stream",
          "name": "stdout",
          "text": [
            "--2023-03-25 22:49:51--  https://developer.download.nvidia.com/compute/cuda/repos/ubuntu2004/x86_64/cuda-ubuntu2004.pin\n",
            "Resolving developer.download.nvidia.com (developer.download.nvidia.com)... 152.195.19.142\n",
            "Connecting to developer.download.nvidia.com (developer.download.nvidia.com)|152.195.19.142|:443... connected.\n",
            "HTTP request sent, awaiting response... 200 OK\n",
            "Length: 190 [application/octet-stream]\n",
            "Saving to: ‘cuda-ubuntu2004.pin’\n",
            "\n",
            "\rcuda-ubuntu2004.pin   0%[                    ]       0  --.-KB/s               \rcuda-ubuntu2004.pin 100%[===================>]     190  --.-KB/s    in 0s      \n",
            "\n",
            "2023-03-25 22:49:51 (4.16 MB/s) - ‘cuda-ubuntu2004.pin’ saved [190/190]\n",
            "\n",
            "--2023-03-25 22:49:51--  https://developer.download.nvidia.com/compute/cuda/11.6.0/local_installers/cuda-repo-ubuntu2004-11-6-local_11.6.0-510.39.01-1_amd64.deb\n",
            "Resolving developer.download.nvidia.com (developer.download.nvidia.com)... 152.195.19.142\n",
            "Connecting to developer.download.nvidia.com (developer.download.nvidia.com)|152.195.19.142|:443... connected.\n",
            "HTTP request sent, awaiting response... 200 OK\n",
            "Length: 2681112370 (2.5G) [application/x-deb]\n",
            "Saving to: ‘cuda-repo-ubuntu2004-11-6-local_11.6.0-510.39.01-1_amd64.deb’\n",
            "\n",
            "cuda-repo-ubuntu200 100%[===================>]   2.50G   217MB/s    in 12s     \n",
            "\n",
            "2023-03-25 22:50:03 (217 MB/s) - ‘cuda-repo-ubuntu2004-11-6-local_11.6.0-510.39.01-1_amd64.deb’ saved [2681112370/2681112370]\n",
            "\n",
            "Selecting previously unselected package cuda-repo-ubuntu2004-11-6-local.\n",
            "(Reading database ... 128285 files and directories currently installed.)\n",
            "Preparing to unpack cuda-repo-ubuntu2004-11-6-local_11.6.0-510.39.01-1_amd64.deb ...\n",
            "Unpacking cuda-repo-ubuntu2004-11-6-local (11.6.0-510.39.01-1) ...\n",
            "Setting up cuda-repo-ubuntu2004-11-6-local (11.6.0-510.39.01-1) ...\n",
            "\n",
            "The public CUDA GPG key does not appear to be installed.\n",
            "To install the key, run this command:\n",
            "sudo apt-key add /var/cuda-repo-ubuntu2004-11-6-local/7fa2af80.pub\n",
            "\n",
            "OK\n",
            "Get:1 file:/var/cuda-repo-ubuntu2004-11-6-local  InRelease\n",
            "Ign:1 file:/var/cuda-repo-ubuntu2004-11-6-local  InRelease\n",
            "Get:2 file:/var/cuda-repo-ubuntu2004-11-6-local  Release [564 B]\n",
            "Get:2 file:/var/cuda-repo-ubuntu2004-11-6-local  Release [564 B]\n",
            "Get:3 file:/var/cuda-repo-ubuntu2004-11-6-local  Release.gpg [836 B]\n",
            "Get:3 file:/var/cuda-repo-ubuntu2004-11-6-local  Release.gpg [836 B]\n",
            "Get:4 https://cloud.r-project.org/bin/linux/ubuntu focal-cran40/ InRelease [3,622 B]\n",
            "Hit:5 https://developer.download.nvidia.com/compute/cuda/repos/ubuntu2004/x86_64  InRelease\n",
            "Get:6 file:/var/cuda-repo-ubuntu2004-11-6-local  Packages [34.4 kB]\n",
            "Hit:7 http://archive.ubuntu.com/ubuntu focal InRelease\n",
            "Get:8 http://security.ubuntu.com/ubuntu focal-security InRelease [114 kB]\n",
            "Hit:9 http://ppa.launchpad.net/c2d4u.team/c2d4u4.0+/ubuntu focal InRelease\n",
            "Get:10 http://archive.ubuntu.com/ubuntu focal-updates InRelease [114 kB]\n",
            "Get:11 http://archive.ubuntu.com/ubuntu focal-backports InRelease [108 kB]\n",
            "Hit:12 http://ppa.launchpad.net/cran/libgit2/ubuntu focal InRelease\n",
            "Get:13 http://archive.ubuntu.com/ubuntu focal-updates/universe amd64 Packages [1,314 kB]\n",
            "Get:14 http://ppa.launchpad.net/deadsnakes/ppa/ubuntu focal InRelease [18.1 kB]\n",
            "Get:15 http://archive.ubuntu.com/ubuntu focal-updates/main amd64 Packages [3,027 kB]\n",
            "Hit:16 http://ppa.launchpad.net/graphics-drivers/ppa/ubuntu focal InRelease\n",
            "Get:17 http://security.ubuntu.com/ubuntu focal-security/main amd64 Packages [2,549 kB]\n",
            "Hit:18 http://ppa.launchpad.net/ubuntugis/ppa/ubuntu focal InRelease\n",
            "Get:19 http://ppa.launchpad.net/deadsnakes/ppa/ubuntu focal/main amd64 Packages [29.5 kB]\n",
            "Get:20 http://security.ubuntu.com/ubuntu focal-security/universe amd64 Packages [1,019 kB]\n",
            "Get:21 http://security.ubuntu.com/ubuntu focal-security/restricted amd64 Packages [2,003 kB]\n",
            "Fetched 10.3 MB in 2s (5,281 kB/s)\n",
            "Reading package lists... Done\n",
            "Reading package lists... Done\n",
            "Building dependency tree       \n",
            "Reading state information... Done\n",
            "The following additional packages will be installed:\n",
            "  cuda-cccl-11-6 cuda-command-line-tools-11-6 cuda-compiler-11-6\n",
            "  cuda-cudart-11-6 cuda-cudart-dev-11-6 cuda-cuobjdump-11-6 cuda-cupti-11-6\n",
            "  cuda-cupti-dev-11-6 cuda-cuxxfilt-11-6 cuda-demo-suite-11-6\n",
            "  cuda-documentation-11-6 cuda-driver-dev-11-6 cuda-gdb-11-6\n",
            "  cuda-libraries-11-6 cuda-libraries-dev-11-6 cuda-memcheck-11-6\n",
            "  cuda-nsight-11-6 cuda-nsight-compute-11-6 cuda-nsight-systems-11-6\n",
            "  cuda-nvcc-11-6 cuda-nvdisasm-11-6 cuda-nvml-dev-11-6 cuda-nvprof-11-6\n",
            "  cuda-nvprune-11-6 cuda-nvrtc-11-6 cuda-nvrtc-dev-11-6 cuda-nvtx-11-6\n",
            "  cuda-nvvp-11-6 cuda-runtime-11-6 cuda-samples-11-6 cuda-sanitizer-11-6\n",
            "  cuda-toolkit-11-6 cuda-toolkit-11-6-config-common cuda-tools-11-6\n",
            "  cuda-visual-tools-11-6 gds-tools-11-6 libcublas-11-6 libcublas-dev-11-6\n",
            "  libcufft-11-6 libcufft-dev-11-6 libcufile-11-6 libcufile-dev-11-6\n",
            "  libcurand-11-6 libcurand-dev-11-6 libcusolver-11-6 libcusolver-dev-11-6\n",
            "  libcusparse-11-6 libcusparse-dev-11-6 libnpp-11-6 libnpp-dev-11-6\n",
            "  libnvjpeg-11-6 libnvjpeg-dev-11-6 liburcu6 nsight-compute-2022.1.1\n",
            "  nsight-systems-2021.5.2\n",
            "The following NEW packages will be installed:\n",
            "  cuda-11-6 cuda-cccl-11-6 cuda-command-line-tools-11-6 cuda-compiler-11-6\n",
            "  cuda-cudart-11-6 cuda-cudart-dev-11-6 cuda-cuobjdump-11-6 cuda-cupti-11-6\n",
            "  cuda-cupti-dev-11-6 cuda-cuxxfilt-11-6 cuda-demo-suite-11-6\n",
            "  cuda-documentation-11-6 cuda-driver-dev-11-6 cuda-gdb-11-6\n",
            "  cuda-libraries-11-6 cuda-libraries-dev-11-6 cuda-memcheck-11-6\n",
            "  cuda-nsight-11-6 cuda-nsight-compute-11-6 cuda-nsight-systems-11-6\n",
            "  cuda-nvcc-11-6 cuda-nvdisasm-11-6 cuda-nvml-dev-11-6 cuda-nvprof-11-6\n",
            "  cuda-nvprune-11-6 cuda-nvrtc-11-6 cuda-nvrtc-dev-11-6 cuda-nvtx-11-6\n",
            "  cuda-nvvp-11-6 cuda-runtime-11-6 cuda-samples-11-6 cuda-sanitizer-11-6\n",
            "  cuda-toolkit-11-6 cuda-toolkit-11-6-config-common cuda-tools-11-6\n",
            "  cuda-visual-tools-11-6 gds-tools-11-6 libcublas-11-6 libcublas-dev-11-6\n",
            "  libcufft-11-6 libcufft-dev-11-6 libcufile-11-6 libcufile-dev-11-6\n",
            "  libcurand-11-6 libcurand-dev-11-6 libcusolver-11-6 libcusolver-dev-11-6\n",
            "  libcusparse-11-6 libcusparse-dev-11-6 libnpp-11-6 libnpp-dev-11-6\n",
            "  libnvjpeg-11-6 libnvjpeg-dev-11-6 liburcu6 nsight-compute-2022.1.1\n",
            "  nsight-systems-2021.5.2\n",
            "0 upgraded, 56 newly installed, 0 to remove and 23 not upgraded.\n",
            "Need to get 2,040 MB/2,283 MB of archives.\n",
            "After this operation, 5,256 MB of additional disk space will be used.\n",
            "Get:1 file:/var/cuda-repo-ubuntu2004-11-6-local  cuda-toolkit-11-6-config-common 11.6.55-1 [16.3 kB]\n",
            "Get:2 file:/var/cuda-repo-ubuntu2004-11-6-local  cuda-cudart-11-6 11.6.55-1 [161 kB]\n",
            "Get:3 file:/var/cuda-repo-ubuntu2004-11-6-local  cuda-cccl-11-6 11.6.55-1 [1,041 kB]\n",
            "Get:4 file:/var/cuda-repo-ubuntu2004-11-6-local  cuda-driver-dev-11-6 11.6.55-1 [27.1 kB]\n",
            "Get:5 file:/var/cuda-repo-ubuntu2004-11-6-local  cuda-cudart-dev-11-6 11.6.55-1 [754 kB]\n",
            "Get:6 https://developer.download.nvidia.com/compute/cuda/repos/ubuntu2004/x86_64  cuda-nvrtc-11-6 11.6.124-1 [15.0 MB]\n",
            "Get:7 http://archive.ubuntu.com/ubuntu focal/main amd64 liburcu6 amd64 0.11.1-2 [54.2 kB]\n",
            "Get:8 https://developer.download.nvidia.com/compute/cuda/repos/ubuntu2004/x86_64  libcublas-11-6 11.9.2.110-1 [219 MB]\n",
            "Get:9 file:/var/cuda-repo-ubuntu2004-11-6-local  nsight-systems-2021.5.2 2021.5.2.53-28d0e6e [237 MB]\n",
            "Get:10 file:/var/cuda-repo-ubuntu2004-11-6-local  cuda-nvml-dev-11-6 11.6.55-1 [77.3 kB]\n",
            "Get:11 file:/var/cuda-repo-ubuntu2004-11-6-local  cuda-samples-11-6 11.6.101-1 [16.3 kB]\n",
            "Get:12 file:/var/cuda-repo-ubuntu2004-11-6-local  cuda-demo-suite-11-6 11.6.55-1 [3,978 kB]\n",
            "Get:13 https://developer.download.nvidia.com/compute/cuda/repos/ubuntu2004/x86_64  libcufft-11-6 10.7.2.124-1 [68.3 MB]\n",
            "Get:14 https://developer.download.nvidia.com/compute/cuda/repos/ubuntu2004/x86_64  libcufile-11-6 1.2.1.4-1 [467 kB]\n",
            "Get:15 https://developer.download.nvidia.com/compute/cuda/repos/ubuntu2004/x86_64  libcurand-11-6 10.2.9.124-1 [41.5 MB]\n",
            "Get:16 https://developer.download.nvidia.com/compute/cuda/repos/ubuntu2004/x86_64  libcusolver-11-6 11.3.4.124-1 [48.0 MB]\n",
            "Get:17 https://developer.download.nvidia.com/compute/cuda/repos/ubuntu2004/x86_64  libcusparse-11-6 11.7.2.124-1 [110 MB]\n",
            "Get:18 https://developer.download.nvidia.com/compute/cuda/repos/ubuntu2004/x86_64  libnpp-11-6 11.6.3.124-1 [84.3 MB]\n",
            "Get:19 https://developer.download.nvidia.com/compute/cuda/repos/ubuntu2004/x86_64  libnvjpeg-11-6 11.6.2.124-1 [1,821 kB]\n",
            "Get:20 https://developer.download.nvidia.com/compute/cuda/repos/ubuntu2004/x86_64  cuda-libraries-11-6 11.6.2-1 [2,510 B]\n",
            "Get:21 https://developer.download.nvidia.com/compute/cuda/repos/ubuntu2004/x86_64  cuda-runtime-11-6 11.6.2-1 [2,424 B]\n",
            "Get:22 https://developer.download.nvidia.com/compute/cuda/repos/ubuntu2004/x86_64  cuda-cuobjdump-11-6 11.6.124-1 [115 kB]\n",
            "Get:23 https://developer.download.nvidia.com/compute/cuda/repos/ubuntu2004/x86_64  cuda-cuxxfilt-11-6 11.6.124-1 [188 kB]\n",
            "Get:24 https://developer.download.nvidia.com/compute/cuda/repos/ubuntu2004/x86_64  cuda-nvcc-11-6 11.6.124-1 [35.8 MB]\n",
            "Get:25 https://developer.download.nvidia.com/compute/cuda/repos/ubuntu2004/x86_64  cuda-nvprune-11-6 11.6.124-1 [57.5 kB]\n",
            "Get:26 https://developer.download.nvidia.com/compute/cuda/repos/ubuntu2004/x86_64  cuda-compiler-11-6 11.6.2-1 [2,428 B]\n",
            "Get:27 https://developer.download.nvidia.com/compute/cuda/repos/ubuntu2004/x86_64  cuda-nvrtc-dev-11-6 11.6.124-1 [13.3 MB]\n",
            "Get:28 https://developer.download.nvidia.com/compute/cuda/repos/ubuntu2004/x86_64  libcublas-dev-11-6 11.9.2.110-1 [223 MB]\n",
            "Get:29 https://developer.download.nvidia.com/compute/cuda/repos/ubuntu2004/x86_64  libcufft-dev-11-6 10.7.2.124-1 [153 MB]\n",
            "Get:30 https://developer.download.nvidia.com/compute/cuda/repos/ubuntu2004/x86_64  libcufile-dev-11-6 1.2.1.4-1 [7,704 kB]\n",
            "Get:31 https://developer.download.nvidia.com/compute/cuda/repos/ubuntu2004/x86_64  libcurand-dev-11-6 10.2.9.124-1 [41.9 MB]\n",
            "Get:32 https://developer.download.nvidia.com/compute/cuda/repos/ubuntu2004/x86_64  libcusolver-dev-11-6 11.3.4.124-1 [32.3 MB]\n",
            "Get:33 https://developer.download.nvidia.com/compute/cuda/repos/ubuntu2004/x86_64  libcusparse-dev-11-6 11.7.2.124-1 [112 MB]\n",
            "Get:34 https://developer.download.nvidia.com/compute/cuda/repos/ubuntu2004/x86_64  libnpp-dev-11-6 11.6.3.124-1 [83.6 MB]\n",
            "Get:35 https://developer.download.nvidia.com/compute/cuda/repos/ubuntu2004/x86_64  libnvjpeg-dev-11-6 11.6.2.124-1 [1,496 kB]\n",
            "Get:36 https://developer.download.nvidia.com/compute/cuda/repos/ubuntu2004/x86_64  cuda-libraries-dev-11-6 11.6.2-1 [2,532 B]\n",
            "Get:37 https://developer.download.nvidia.com/compute/cuda/repos/ubuntu2004/x86_64  cuda-cupti-11-6 11.6.124-1 [13.1 MB]\n",
            "Get:38 https://developer.download.nvidia.com/compute/cuda/repos/ubuntu2004/x86_64  cuda-cupti-dev-11-6 11.6.124-1 [2,502 kB]\n",
            "Get:39 https://developer.download.nvidia.com/compute/cuda/repos/ubuntu2004/x86_64  cuda-nvdisasm-11-6 11.6.124-1 [32.8 MB]\n",
            "Get:40 https://developer.download.nvidia.com/compute/cuda/repos/ubuntu2004/x86_64  cuda-gdb-11-6 11.6.124-1 [4,113 kB]\n",
            "Get:41 https://developer.download.nvidia.com/compute/cuda/repos/ubuntu2004/x86_64  cuda-memcheck-11-6 11.6.124-1 [142 kB]\n",
            "Get:42 https://developer.download.nvidia.com/compute/cuda/repos/ubuntu2004/x86_64  cuda-nvprof-11-6 11.6.124-1 [1,946 kB]\n",
            "Get:43 https://developer.download.nvidia.com/compute/cuda/repos/ubuntu2004/x86_64  cuda-nvtx-11-6 11.6.124-1 [51.3 kB]\n",
            "Get:44 https://developer.download.nvidia.com/compute/cuda/repos/ubuntu2004/x86_64  cuda-sanitizer-11-6 11.6.124-1 [8,528 kB]\n",
            "Get:45 https://developer.download.nvidia.com/compute/cuda/repos/ubuntu2004/x86_64  cuda-command-line-tools-11-6 11.6.2-1 [2,470 B]\n",
            "Get:46 https://developer.download.nvidia.com/compute/cuda/repos/ubuntu2004/x86_64  nsight-compute-2022.1.1 2022.1.1.2-1 [412 MB]\n",
            "Get:47 https://developer.download.nvidia.com/compute/cuda/repos/ubuntu2004/x86_64  cuda-nsight-compute-11-6 11.6.2-1 [3,704 B]\n",
            "Get:48 https://developer.download.nvidia.com/compute/cuda/repos/ubuntu2004/x86_64  cuda-nsight-systems-11-6 11.6.2-1 [3,308 B]\n",
            "Get:49 https://developer.download.nvidia.com/compute/cuda/repos/ubuntu2004/x86_64  cuda-nsight-11-6 11.6.124-1 [119 MB]\n",
            "Get:50 https://developer.download.nvidia.com/compute/cuda/repos/ubuntu2004/x86_64  cuda-nvvp-11-6 11.6.124-1 [114 MB]\n",
            "Get:51 https://developer.download.nvidia.com/compute/cuda/repos/ubuntu2004/x86_64  cuda-visual-tools-11-6 11.6.2-1 [2,870 B]\n",
            "Get:52 https://developer.download.nvidia.com/compute/cuda/repos/ubuntu2004/x86_64  gds-tools-11-6 1.2.1.4-1 [38.9 MB]\n",
            "Get:53 https://developer.download.nvidia.com/compute/cuda/repos/ubuntu2004/x86_64  cuda-tools-11-6 11.6.2-1 [2,392 B]\n",
            "Get:54 https://developer.download.nvidia.com/compute/cuda/repos/ubuntu2004/x86_64  cuda-documentation-11-6 11.6.124-1 [49.8 kB]\n",
            "Get:55 https://developer.download.nvidia.com/compute/cuda/repos/ubuntu2004/x86_64  cuda-toolkit-11-6 11.6.2-1 [3,376 B]\n",
            "Get:56 https://developer.download.nvidia.com/compute/cuda/repos/ubuntu2004/x86_64  cuda-11-6 11.6.2-1 [2,450 B]\n",
            "Fetched 2,040 MB in 26s (79.3 MB/s)\n",
            "Extracting templates from packages: 100%\n",
            "Selecting previously unselected package cuda-toolkit-11-6-config-common.\n",
            "(Reading database ... 128414 files and directories currently installed.)\n",
            "Preparing to unpack .../00-cuda-toolkit-11-6-config-common_11.6.55-1_all.deb ...\n",
            "Unpacking cuda-toolkit-11-6-config-common (11.6.55-1) ...\n",
            "Selecting previously unselected package cuda-cudart-11-6.\n",
            "Preparing to unpack .../01-cuda-cudart-11-6_11.6.55-1_amd64.deb ...\n",
            "Unpacking cuda-cudart-11-6 (11.6.55-1) ...\n",
            "Selecting previously unselected package cuda-nvrtc-11-6.\n",
            "Preparing to unpack .../02-cuda-nvrtc-11-6_11.6.124-1_amd64.deb ...\n",
            "Unpacking cuda-nvrtc-11-6 (11.6.124-1) ...\n",
            "Selecting previously unselected package libcublas-11-6.\n",
            "Preparing to unpack .../03-libcublas-11-6_11.9.2.110-1_amd64.deb ...\n",
            "Unpacking libcublas-11-6 (11.9.2.110-1) ...\n",
            "Selecting previously unselected package libcufft-11-6.\n",
            "Preparing to unpack .../04-libcufft-11-6_10.7.2.124-1_amd64.deb ...\n",
            "Unpacking libcufft-11-6 (10.7.2.124-1) ...\n",
            "Selecting previously unselected package liburcu6:amd64.\n",
            "Preparing to unpack .../05-liburcu6_0.11.1-2_amd64.deb ...\n",
            "Unpacking liburcu6:amd64 (0.11.1-2) ...\n",
            "Selecting previously unselected package libcufile-11-6.\n",
            "Preparing to unpack .../06-libcufile-11-6_1.2.1.4-1_amd64.deb ...\n",
            "Unpacking libcufile-11-6 (1.2.1.4-1) ...\n",
            "Selecting previously unselected package libcurand-11-6.\n",
            "Preparing to unpack .../07-libcurand-11-6_10.2.9.124-1_amd64.deb ...\n",
            "Unpacking libcurand-11-6 (10.2.9.124-1) ...\n",
            "Selecting previously unselected package libcusolver-11-6.\n",
            "Preparing to unpack .../08-libcusolver-11-6_11.3.4.124-1_amd64.deb ...\n",
            "Unpacking libcusolver-11-6 (11.3.4.124-1) ...\n",
            "Selecting previously unselected package libcusparse-11-6.\n",
            "Preparing to unpack .../09-libcusparse-11-6_11.7.2.124-1_amd64.deb ...\n",
            "Unpacking libcusparse-11-6 (11.7.2.124-1) ...\n",
            "Selecting previously unselected package libnpp-11-6.\n",
            "Preparing to unpack .../10-libnpp-11-6_11.6.3.124-1_amd64.deb ...\n",
            "Unpacking libnpp-11-6 (11.6.3.124-1) ...\n",
            "Selecting previously unselected package libnvjpeg-11-6.\n",
            "Preparing to unpack .../11-libnvjpeg-11-6_11.6.2.124-1_amd64.deb ...\n",
            "Unpacking libnvjpeg-11-6 (11.6.2.124-1) ...\n",
            "Selecting previously unselected package cuda-libraries-11-6.\n",
            "Preparing to unpack .../12-cuda-libraries-11-6_11.6.2-1_amd64.deb ...\n",
            "Unpacking cuda-libraries-11-6 (11.6.2-1) ...\n",
            "Selecting previously unselected package cuda-runtime-11-6.\n",
            "Preparing to unpack .../13-cuda-runtime-11-6_11.6.2-1_amd64.deb ...\n",
            "Unpacking cuda-runtime-11-6 (11.6.2-1) ...\n",
            "Selecting previously unselected package cuda-cuobjdump-11-6.\n",
            "Preparing to unpack .../14-cuda-cuobjdump-11-6_11.6.124-1_amd64.deb ...\n",
            "Unpacking cuda-cuobjdump-11-6 (11.6.124-1) ...\n",
            "Selecting previously unselected package cuda-cuxxfilt-11-6.\n",
            "Preparing to unpack .../15-cuda-cuxxfilt-11-6_11.6.124-1_amd64.deb ...\n",
            "Unpacking cuda-cuxxfilt-11-6 (11.6.124-1) ...\n",
            "Selecting previously unselected package cuda-cccl-11-6.\n",
            "Preparing to unpack .../16-cuda-cccl-11-6_11.6.55-1_amd64.deb ...\n",
            "Unpacking cuda-cccl-11-6 (11.6.55-1) ...\n",
            "Selecting previously unselected package cuda-driver-dev-11-6.\n",
            "Preparing to unpack .../17-cuda-driver-dev-11-6_11.6.55-1_amd64.deb ...\n",
            "Unpacking cuda-driver-dev-11-6 (11.6.55-1) ...\n",
            "Selecting previously unselected package cuda-cudart-dev-11-6.\n",
            "Preparing to unpack .../18-cuda-cudart-dev-11-6_11.6.55-1_amd64.deb ...\n",
            "Unpacking cuda-cudart-dev-11-6 (11.6.55-1) ...\n",
            "Selecting previously unselected package cuda-nvcc-11-6.\n",
            "Preparing to unpack .../19-cuda-nvcc-11-6_11.6.124-1_amd64.deb ...\n",
            "Unpacking cuda-nvcc-11-6 (11.6.124-1) ...\n",
            "Selecting previously unselected package cuda-nvprune-11-6.\n",
            "Preparing to unpack .../20-cuda-nvprune-11-6_11.6.124-1_amd64.deb ...\n",
            "Unpacking cuda-nvprune-11-6 (11.6.124-1) ...\n",
            "Selecting previously unselected package cuda-compiler-11-6.\n",
            "Preparing to unpack .../21-cuda-compiler-11-6_11.6.2-1_amd64.deb ...\n",
            "Unpacking cuda-compiler-11-6 (11.6.2-1) ...\n",
            "Selecting previously unselected package cuda-nvrtc-dev-11-6.\n",
            "Preparing to unpack .../22-cuda-nvrtc-dev-11-6_11.6.124-1_amd64.deb ...\n",
            "Unpacking cuda-nvrtc-dev-11-6 (11.6.124-1) ...\n",
            "Selecting previously unselected package libcublas-dev-11-6.\n",
            "Preparing to unpack .../23-libcublas-dev-11-6_11.9.2.110-1_amd64.deb ...\n",
            "Unpacking libcublas-dev-11-6 (11.9.2.110-1) ...\n",
            "Selecting previously unselected package libcufft-dev-11-6.\n",
            "Preparing to unpack .../24-libcufft-dev-11-6_10.7.2.124-1_amd64.deb ...\n",
            "Unpacking libcufft-dev-11-6 (10.7.2.124-1) ...\n",
            "Selecting previously unselected package libcufile-dev-11-6.\n",
            "Preparing to unpack .../25-libcufile-dev-11-6_1.2.1.4-1_amd64.deb ...\n",
            "Unpacking libcufile-dev-11-6 (1.2.1.4-1) ...\n",
            "Selecting previously unselected package libcurand-dev-11-6.\n",
            "Preparing to unpack .../26-libcurand-dev-11-6_10.2.9.124-1_amd64.deb ...\n",
            "Unpacking libcurand-dev-11-6 (10.2.9.124-1) ...\n",
            "Selecting previously unselected package libcusolver-dev-11-6.\n",
            "Preparing to unpack .../27-libcusolver-dev-11-6_11.3.4.124-1_amd64.deb ...\n",
            "Unpacking libcusolver-dev-11-6 (11.3.4.124-1) ...\n",
            "Selecting previously unselected package libcusparse-dev-11-6.\n",
            "Preparing to unpack .../28-libcusparse-dev-11-6_11.7.2.124-1_amd64.deb ...\n",
            "Unpacking libcusparse-dev-11-6 (11.7.2.124-1) ...\n",
            "Selecting previously unselected package libnpp-dev-11-6.\n",
            "Preparing to unpack .../29-libnpp-dev-11-6_11.6.3.124-1_amd64.deb ...\n",
            "Unpacking libnpp-dev-11-6 (11.6.3.124-1) ...\n",
            "Selecting previously unselected package libnvjpeg-dev-11-6.\n",
            "Preparing to unpack .../30-libnvjpeg-dev-11-6_11.6.2.124-1_amd64.deb ...\n",
            "Unpacking libnvjpeg-dev-11-6 (11.6.2.124-1) ...\n",
            "Selecting previously unselected package cuda-libraries-dev-11-6.\n",
            "Preparing to unpack .../31-cuda-libraries-dev-11-6_11.6.2-1_amd64.deb ...\n",
            "Unpacking cuda-libraries-dev-11-6 (11.6.2-1) ...\n",
            "Selecting previously unselected package cuda-cupti-11-6.\n",
            "Preparing to unpack .../32-cuda-cupti-11-6_11.6.124-1_amd64.deb ...\n",
            "Unpacking cuda-cupti-11-6 (11.6.124-1) ...\n",
            "Selecting previously unselected package cuda-cupti-dev-11-6.\n",
            "Preparing to unpack .../33-cuda-cupti-dev-11-6_11.6.124-1_amd64.deb ...\n",
            "Unpacking cuda-cupti-dev-11-6 (11.6.124-1) ...\n",
            "Selecting previously unselected package cuda-nvdisasm-11-6.\n",
            "Preparing to unpack .../34-cuda-nvdisasm-11-6_11.6.124-1_amd64.deb ...\n",
            "Unpacking cuda-nvdisasm-11-6 (11.6.124-1) ...\n",
            "Selecting previously unselected package cuda-gdb-11-6.\n",
            "Preparing to unpack .../35-cuda-gdb-11-6_11.6.124-1_amd64.deb ...\n",
            "Unpacking cuda-gdb-11-6 (11.6.124-1) ...\n",
            "Selecting previously unselected package cuda-memcheck-11-6.\n",
            "Preparing to unpack .../36-cuda-memcheck-11-6_11.6.124-1_amd64.deb ...\n",
            "Unpacking cuda-memcheck-11-6 (11.6.124-1) ...\n",
            "Selecting previously unselected package cuda-nvprof-11-6.\n",
            "Preparing to unpack .../37-cuda-nvprof-11-6_11.6.124-1_amd64.deb ...\n",
            "Unpacking cuda-nvprof-11-6 (11.6.124-1) ...\n",
            "Selecting previously unselected package cuda-nvtx-11-6.\n",
            "Preparing to unpack .../38-cuda-nvtx-11-6_11.6.124-1_amd64.deb ...\n",
            "Unpacking cuda-nvtx-11-6 (11.6.124-1) ...\n",
            "Selecting previously unselected package cuda-sanitizer-11-6.\n",
            "Preparing to unpack .../39-cuda-sanitizer-11-6_11.6.124-1_amd64.deb ...\n",
            "Unpacking cuda-sanitizer-11-6 (11.6.124-1) ...\n",
            "Selecting previously unselected package cuda-command-line-tools-11-6.\n",
            "Preparing to unpack .../40-cuda-command-line-tools-11-6_11.6.2-1_amd64.deb ...\n",
            "Unpacking cuda-command-line-tools-11-6 (11.6.2-1) ...\n",
            "Selecting previously unselected package nsight-compute-2022.1.1.\n",
            "Preparing to unpack .../41-nsight-compute-2022.1.1_2022.1.1.2-1_amd64.deb ...\n",
            "Unpacking nsight-compute-2022.1.1 (2022.1.1.2-1) ...\n",
            "Selecting previously unselected package cuda-nsight-compute-11-6.\n",
            "Preparing to unpack .../42-cuda-nsight-compute-11-6_11.6.2-1_amd64.deb ...\n",
            "Unpacking cuda-nsight-compute-11-6 (11.6.2-1) ...\n",
            "Selecting previously unselected package nsight-systems-2021.5.2.\n",
            "Preparing to unpack .../43-nsight-systems-2021.5.2_2021.5.2.53-1_amd64.deb ...\n",
            "Unpacking nsight-systems-2021.5.2 (2021.5.2.53-28d0e6e) ...\n",
            "Selecting previously unselected package cuda-nsight-systems-11-6.\n",
            "Preparing to unpack .../44-cuda-nsight-systems-11-6_11.6.2-1_amd64.deb ...\n",
            "Unpacking cuda-nsight-systems-11-6 (11.6.2-1) ...\n",
            "Selecting previously unselected package cuda-nsight-11-6.\n",
            "Preparing to unpack .../45-cuda-nsight-11-6_11.6.124-1_amd64.deb ...\n",
            "Unpacking cuda-nsight-11-6 (11.6.124-1) ...\n",
            "Selecting previously unselected package cuda-nvml-dev-11-6.\n",
            "Preparing to unpack .../46-cuda-nvml-dev-11-6_11.6.55-1_amd64.deb ...\n",
            "Unpacking cuda-nvml-dev-11-6 (11.6.55-1) ...\n",
            "Selecting previously unselected package cuda-nvvp-11-6.\n",
            "Preparing to unpack .../47-cuda-nvvp-11-6_11.6.124-1_amd64.deb ...\n",
            "Unpacking cuda-nvvp-11-6 (11.6.124-1) ...\n",
            "Selecting previously unselected package cuda-visual-tools-11-6.\n",
            "Preparing to unpack .../48-cuda-visual-tools-11-6_11.6.2-1_amd64.deb ...\n",
            "Unpacking cuda-visual-tools-11-6 (11.6.2-1) ...\n",
            "Selecting previously unselected package gds-tools-11-6.\n",
            "Preparing to unpack .../49-gds-tools-11-6_1.2.1.4-1_amd64.deb ...\n",
            "Unpacking gds-tools-11-6 (1.2.1.4-1) ...\n",
            "Selecting previously unselected package cuda-tools-11-6.\n",
            "Preparing to unpack .../50-cuda-tools-11-6_11.6.2-1_amd64.deb ...\n",
            "Unpacking cuda-tools-11-6 (11.6.2-1) ...\n",
            "Selecting previously unselected package cuda-documentation-11-6.\n",
            "Preparing to unpack .../51-cuda-documentation-11-6_11.6.124-1_amd64.deb ...\n",
            "Unpacking cuda-documentation-11-6 (11.6.124-1) ...\n",
            "Selecting previously unselected package cuda-samples-11-6.\n",
            "Preparing to unpack .../52-cuda-samples-11-6_11.6.101-1_amd64.deb ...\n",
            "Unpacking cuda-samples-11-6 (11.6.101-1) ...\n",
            "Selecting previously unselected package cuda-toolkit-11-6.\n",
            "Preparing to unpack .../53-cuda-toolkit-11-6_11.6.2-1_amd64.deb ...\n",
            "Unpacking cuda-toolkit-11-6 (11.6.2-1) ...\n",
            "Selecting previously unselected package cuda-demo-suite-11-6.\n",
            "Preparing to unpack .../54-cuda-demo-suite-11-6_11.6.55-1_amd64.deb ...\n",
            "Unpacking cuda-demo-suite-11-6 (11.6.55-1) ...\n",
            "Selecting previously unselected package cuda-11-6.\n",
            "Preparing to unpack .../55-cuda-11-6_11.6.2-1_amd64.deb ...\n",
            "Unpacking cuda-11-6 (11.6.2-1) ...\n",
            "Setting up cuda-nvprune-11-6 (11.6.124-1) ...\n",
            "Setting up cuda-driver-dev-11-6 (11.6.55-1) ...\n",
            "Setting up cuda-cuobjdump-11-6 (11.6.124-1) ...\n",
            "Setting up cuda-nvrtc-11-6 (11.6.124-1) ...\n",
            "Setting up cuda-sanitizer-11-6 (11.6.124-1) ...\n",
            "Setting up cuda-nvvp-11-6 (11.6.124-1) ...\n",
            "Setting up gds-tools-11-6 (1.2.1.4-1) ...\n",
            "Setting up cuda-cuxxfilt-11-6 (11.6.124-1) ...\n",
            "Setting up nsight-compute-2022.1.1 (2022.1.1.2-1) ...\n",
            "Setting up nsight-systems-2021.5.2 (2021.5.2.53-28d0e6e) ...\n",
            "update-alternatives: using /opt/nvidia/nsight-systems/2021.5.2/target-linux-x64/nsys to provide /usr/local/bin/nsys (nsys) in manual mode\n",
            "update-alternatives: using /opt/nvidia/nsight-systems/2021.5.2/host-linux-x64/nsys-ui to provide /usr/local/bin/nsys-ui (nsys-ui) in manual mode\n",
            "Setting up cuda-nsight-compute-11-6 (11.6.2-1) ...\n",
            "Setting up cuda-nsight-11-6 (11.6.124-1) ...\n",
            "Setting up cuda-nvtx-11-6 (11.6.124-1) ...\n",
            "Setting up cuda-cccl-11-6 (11.6.55-1) ...\n",
            "Setting up cuda-toolkit-11-6-config-common (11.6.55-1) ...\n",
            "Setting alternatives\n",
            "Setting up cuda-nvprof-11-6 (11.6.124-1) ...\n",
            "Setting up libcublas-11-6 (11.9.2.110-1) ...\n",
            "Setting up cuda-samples-11-6 (11.6.101-1) ...\n",
            "Setting up cuda-nvml-dev-11-6 (11.6.55-1) ...\n",
            "Setting up cuda-nvrtc-dev-11-6 (11.6.124-1) ...\n",
            "Setting up cuda-documentation-11-6 (11.6.124-1) ...\n",
            "Setting up libcusolver-11-6 (11.3.4.124-1) ...\n",
            "Setting up liburcu6:amd64 (0.11.1-2) ...\n",
            "Setting up cuda-cudart-11-6 (11.6.55-1) ...\n",
            "Setting up cuda-memcheck-11-6 (11.6.124-1) ...\n",
            "Setting up cuda-nsight-systems-11-6 (11.6.2-1) ...\n",
            "Setting up libnpp-11-6 (11.6.3.124-1) ...\n",
            "Setting up libnpp-dev-11-6 (11.6.3.124-1) ...\n",
            "Setting up cuda-nvdisasm-11-6 (11.6.124-1) ...\n",
            "Setting up cuda-gdb-11-6 (11.6.124-1) ...\n",
            "Setting up libcurand-11-6 (10.2.9.124-1) ...\n",
            "Setting up libcufile-11-6 (1.2.1.4-1) ...\n",
            "Setting alternatives\n",
            "Setting up cuda-cudart-dev-11-6 (11.6.55-1) ...\n",
            "Setting up libcublas-dev-11-6 (11.9.2.110-1) ...\n",
            "Setting up libcurand-dev-11-6 (10.2.9.124-1) ...\n",
            "Setting up libcusparse-11-6 (11.7.2.124-1) ...\n",
            "Setting up cuda-nvcc-11-6 (11.6.124-1) ...\n",
            "Setting up libnvjpeg-11-6 (11.6.2.124-1) ...\n",
            "Setting up libcufft-11-6 (10.7.2.124-1) ...\n",
            "Setting up libcusolver-dev-11-6 (11.3.4.124-1) ...\n",
            "Setting up libcufft-dev-11-6 (10.7.2.124-1) ...\n",
            "Setting up libcufile-dev-11-6 (1.2.1.4-1) ...\n",
            "Setting up cuda-libraries-11-6 (11.6.2-1) ...\n",
            "Setting up libcusparse-dev-11-6 (11.7.2.124-1) ...\n",
            "Setting up cuda-compiler-11-6 (11.6.2-1) ...\n",
            "Setting up cuda-cupti-11-6 (11.6.124-1) ...\n",
            "Setting up cuda-runtime-11-6 (11.6.2-1) ...\n",
            "Setting up libnvjpeg-dev-11-6 (11.6.2.124-1) ...\n",
            "Setting up cuda-cupti-dev-11-6 (11.6.124-1) ...\n",
            "Setting up cuda-command-line-tools-11-6 (11.6.2-1) ...\n",
            "Setting up cuda-demo-suite-11-6 (11.6.55-1) ...\n",
            "Setting up cuda-libraries-dev-11-6 (11.6.2-1) ...\n",
            "Setting up cuda-visual-tools-11-6 (11.6.2-1) ...\n",
            "Setting up cuda-tools-11-6 (11.6.2-1) ...\n",
            "Setting up cuda-toolkit-11-6 (11.6.2-1) ...\n",
            "Setting alternatives\n",
            "Setting up cuda-11-6 (11.6.2-1) ...\n",
            "Processing triggers for libc-bin (2.31-0ubuntu9.9) ...\n",
            "Processing triggers for mime-support (3.64ubuntu1) ...\n",
            "W: Sources disagree on hashes for supposely identical version '11.6.55-1' of 'cuda-toolkit-11-6-config-common:amd64'.\n",
            "W: Sources disagree on hashes for supposely identical version '11.6.55-1' of 'cuda-cudart-11-6:amd64'.\n",
            "W: Sources disagree on hashes for supposely identical version '11.6.55-1' of 'cuda-cccl-11-6:amd64'.\n",
            "W: Sources disagree on hashes for supposely identical version '11.6.55-1' of 'cuda-driver-dev-11-6:amd64'.\n",
            "W: Sources disagree on hashes for supposely identical version '11.6.55-1' of 'cuda-cudart-dev-11-6:amd64'.\n",
            "W: Sources disagree on hashes for supposely identical version '11.6.55-1' of 'cuda-nvml-dev-11-6:amd64'.\n",
            "W: Sources disagree on hashes for supposely identical version '11.6.101-1' of 'cuda-samples-11-6:amd64'.\n",
            "W: Sources disagree on hashes for supposely identical version '11.6.55-1' of 'cuda-demo-suite-11-6:amd64'.\n"
          ]
        }
      ],
      "source": [
        "# Don't change if on Google Colab\n",
        "!wget https://developer.download.nvidia.com/compute/cuda/repos/ubuntu2004/x86_64/cuda-ubuntu2004.pin\n",
        "!mv cuda-ubuntu2004.pin /etc/apt/preferences.d/cuda-repository-pin-600\n",
        "!wget -nc https://developer.download.nvidia.com/compute/cuda/11.6.0/local_installers/cuda-repo-ubuntu2004-11-6-local_11.6.0-510.39.01-1_amd64.deb\n",
        "!dpkg -i cuda-repo-ubuntu2004-11-6-local_11.6.0-510.39.01-1_amd64.deb\n",
        "!apt-key add /var/cuda-repo-ubuntu2004-11-6-local/7fa2af80.pub\n",
        "!apt-get update\n",
        "!apt-get -y install cuda-11-6\n"
      ]
    },
    {
      "cell_type": "code",
      "execution_count": 2,
      "metadata": {
        "id": "rerxj-jSI5pG"
      },
      "outputs": [],
      "source": [
        "# Don't change\n",
        "import os\n",
        "os.environ['PATH'] = \"/usr/local/cuda-11.6/bin:\" + os.environ['PATH']\n",
        "os.environ['LD_LIBRARY_PATH'] = \"/usr/local/cuda-11.6/lib64:\" + os.environ['LD_LIBRARY_PATH']\n"
      ]
    },
    {
      "cell_type": "code",
      "execution_count": 3,
      "metadata": {
        "colab": {
          "base_uri": "https://localhost:8080/",
          "height": 0
        },
        "id": "ttC4k6xgBntO",
        "outputId": "eec5c615-2bcc-4b9e-8188-8d0fba4ea176"
      },
      "outputs": [
        {
          "output_type": "stream",
          "name": "stdout",
          "text": [
            "nvcc: NVIDIA (R) Cuda compiler driver\n",
            "Copyright (c) 2005-2022 NVIDIA Corporation\n",
            "Built on Tue_Mar__8_18:18:20_PST_2022\n",
            "Cuda compilation tools, release 11.6, V11.6.124\n",
            "Build cuda_11.6.r11.6/compiler.31057947_0\n"
          ]
        }
      ],
      "source": [
        "# Check if the version is 11.6\n",
        "!nvcc --version"
      ]
    },
    {
      "cell_type": "code",
      "execution_count": 4,
      "metadata": {
        "colab": {
          "base_uri": "https://localhost:8080/",
          "height": 0
        },
        "id": "_We2DVGVxfSw",
        "outputId": "78c27085-f6db-4018-c9a1-c7c83b23693c"
      },
      "outputs": [
        {
          "output_type": "stream",
          "name": "stdout",
          "text": [
            "Looking in indexes: https://pypi.org/simple, https://us-python.pkg.dev/colab-wheels/public/simple/, https://download.pytorch.org/whl/cu116\n",
            "Requirement already satisfied: torch in /usr/local/lib/python3.9/dist-packages (1.13.1+cu116)\n",
            "Requirement already satisfied: torchvision in /usr/local/lib/python3.9/dist-packages (0.14.1+cu116)\n",
            "Requirement already satisfied: torchaudio in /usr/local/lib/python3.9/dist-packages (0.13.1+cu116)\n",
            "Requirement already satisfied: typing-extensions in /usr/local/lib/python3.9/dist-packages (from torch) (4.5.0)\n",
            "Requirement already satisfied: pillow!=8.3.*,>=5.3.0 in /usr/local/lib/python3.9/dist-packages (from torchvision) (8.4.0)\n",
            "Requirement already satisfied: numpy in /usr/local/lib/python3.9/dist-packages (from torchvision) (1.22.4)\n",
            "Requirement already satisfied: requests in /usr/local/lib/python3.9/dist-packages (from torchvision) (2.27.1)\n",
            "Requirement already satisfied: idna<4,>=2.5 in /usr/local/lib/python3.9/dist-packages (from requests->torchvision) (3.4)\n",
            "Requirement already satisfied: charset-normalizer~=2.0.0 in /usr/local/lib/python3.9/dist-packages (from requests->torchvision) (2.0.12)\n",
            "Requirement already satisfied: certifi>=2017.4.17 in /usr/local/lib/python3.9/dist-packages (from requests->torchvision) (2022.12.7)\n",
            "Requirement already satisfied: urllib3<1.27,>=1.21.1 in /usr/local/lib/python3.9/dist-packages (from requests->torchvision) (1.26.15)\n"
          ]
        }
      ],
      "source": [
        "!pip install torch torchvision torchaudio --extra-index-url https://download.pytorch.org/whl/cu116"
      ]
    },
    {
      "cell_type": "code",
      "execution_count": 5,
      "metadata": {
        "colab": {
          "base_uri": "https://localhost:8080/",
          "height": 0
        },
        "id": "orW2XPGMOJGM",
        "outputId": "f0aab382-efec-490b-f428-635e29fa5823"
      },
      "outputs": [
        {
          "output_type": "stream",
          "name": "stdout",
          "text": [
            "Looking in indexes: https://pypi.org/simple, https://us-python.pkg.dev/colab-wheels/public/simple/\n",
            "Looking in links: https://data.pyg.org/whl/torch-1.13.1+cu116.html\n",
            "Collecting pyg_lib\n",
            "  Downloading https://data.pyg.org/whl/torch-1.13.0%2Bcu116/pyg_lib-0.2.0%2Bpt113cu116-cp39-cp39-linux_x86_64.whl (2.1 MB)\n",
            "\u001b[2K     \u001b[90m━━━━━━━━━━━━━━━━━━━━━━━━━━━━━━━━━━━━━━━━\u001b[0m \u001b[32m2.1/2.1 MB\u001b[0m \u001b[31m23.2 MB/s\u001b[0m eta \u001b[36m0:00:00\u001b[0m\n",
            "\u001b[?25hCollecting torch_scatter\n",
            "  Downloading https://data.pyg.org/whl/torch-1.13.0%2Bcu116/torch_scatter-2.1.1%2Bpt113cu116-cp39-cp39-linux_x86_64.whl (9.4 MB)\n",
            "\u001b[2K     \u001b[90m━━━━━━━━━━━━━━━━━━━━━━━━━━━━━━━━━━━━━━━━\u001b[0m \u001b[32m9.4/9.4 MB\u001b[0m \u001b[31m58.5 MB/s\u001b[0m eta \u001b[36m0:00:00\u001b[0m\n",
            "\u001b[?25hCollecting torch_sparse\n",
            "  Downloading https://data.pyg.org/whl/torch-1.13.0%2Bcu116/torch_sparse-0.6.17%2Bpt113cu116-cp39-cp39-linux_x86_64.whl (4.5 MB)\n",
            "\u001b[2K     \u001b[90m━━━━━━━━━━━━━━━━━━━━━━━━━━━━━━━━━━━━━━━━\u001b[0m \u001b[32m4.5/4.5 MB\u001b[0m \u001b[31m35.8 MB/s\u001b[0m eta \u001b[36m0:00:00\u001b[0m\n",
            "\u001b[?25hCollecting torch_cluster\n",
            "  Downloading https://data.pyg.org/whl/torch-1.13.0%2Bcu116/torch_cluster-1.6.1%2Bpt113cu116-cp39-cp39-linux_x86_64.whl (3.2 MB)\n",
            "\u001b[2K     \u001b[90m━━━━━━━━━━━━━━━━━━━━━━━━━━━━━━━━━━━━━━━━\u001b[0m \u001b[32m3.2/3.2 MB\u001b[0m \u001b[31m58.8 MB/s\u001b[0m eta \u001b[36m0:00:00\u001b[0m\n",
            "\u001b[?25hCollecting torch_spline_conv\n",
            "  Downloading https://data.pyg.org/whl/torch-1.13.0%2Bcu116/torch_spline_conv-1.2.2%2Bpt113cu116-cp39-cp39-linux_x86_64.whl (868 kB)\n",
            "\u001b[2K     \u001b[90m━━━━━━━━━━━━━━━━━━━━━━━━━━━━━━━━━━━━━━\u001b[0m \u001b[32m868.4/868.4 KB\u001b[0m \u001b[31m22.2 MB/s\u001b[0m eta \u001b[36m0:00:00\u001b[0m\n",
            "\u001b[?25hCollecting torch_geometric\n",
            "  Downloading torch_geometric-2.3.0.tar.gz (616 kB)\n",
            "\u001b[2K     \u001b[90m━━━━━━━━━━━━━━━━━━━━━━━━━━━━━━━━━━━━━━\u001b[0m \u001b[32m616.2/616.2 KB\u001b[0m \u001b[31m11.0 MB/s\u001b[0m eta \u001b[36m0:00:00\u001b[0m\n",
            "\u001b[?25h  Installing build dependencies ... \u001b[?25l\u001b[?25hdone\n",
            "  Getting requirements to build wheel ... \u001b[?25l\u001b[?25hdone\n",
            "  Preparing metadata (pyproject.toml) ... \u001b[?25l\u001b[?25hdone\n",
            "Requirement already satisfied: scipy in /usr/local/lib/python3.9/dist-packages (from torch_sparse) (1.10.1)\n",
            "Requirement already satisfied: scikit-learn in /usr/local/lib/python3.9/dist-packages (from torch_geometric) (1.2.2)\n",
            "Requirement already satisfied: numpy in /usr/local/lib/python3.9/dist-packages (from torch_geometric) (1.22.4)\n",
            "Requirement already satisfied: pyparsing in /usr/local/lib/python3.9/dist-packages (from torch_geometric) (3.0.9)\n",
            "Requirement already satisfied: tqdm in /usr/local/lib/python3.9/dist-packages (from torch_geometric) (4.65.0)\n",
            "Requirement already satisfied: jinja2 in /usr/local/lib/python3.9/dist-packages (from torch_geometric) (3.1.2)\n",
            "Requirement already satisfied: requests in /usr/local/lib/python3.9/dist-packages (from torch_geometric) (2.27.1)\n",
            "Requirement already satisfied: psutil>=5.8.0 in /usr/local/lib/python3.9/dist-packages (from torch_geometric) (5.9.4)\n",
            "Requirement already satisfied: MarkupSafe>=2.0 in /usr/local/lib/python3.9/dist-packages (from jinja2->torch_geometric) (2.1.2)\n",
            "Requirement already satisfied: idna<4,>=2.5 in /usr/local/lib/python3.9/dist-packages (from requests->torch_geometric) (3.4)\n",
            "Requirement already satisfied: urllib3<1.27,>=1.21.1 in /usr/local/lib/python3.9/dist-packages (from requests->torch_geometric) (1.26.15)\n",
            "Requirement already satisfied: charset-normalizer~=2.0.0 in /usr/local/lib/python3.9/dist-packages (from requests->torch_geometric) (2.0.12)\n",
            "Requirement already satisfied: certifi>=2017.4.17 in /usr/local/lib/python3.9/dist-packages (from requests->torch_geometric) (2022.12.7)\n",
            "Requirement already satisfied: threadpoolctl>=2.0.0 in /usr/local/lib/python3.9/dist-packages (from scikit-learn->torch_geometric) (3.1.0)\n",
            "Requirement already satisfied: joblib>=1.1.1 in /usr/local/lib/python3.9/dist-packages (from scikit-learn->torch_geometric) (1.1.1)\n",
            "Building wheels for collected packages: torch_geometric\n",
            "  Building wheel for torch_geometric (pyproject.toml) ... \u001b[?25l\u001b[?25hdone\n",
            "  Created wheel for torch_geometric: filename=torch_geometric-2.3.0-py3-none-any.whl size=909897 sha256=19b3027aa7c4162ffb1eb94f840bff7d7af76d2ee47faabf1c5d18a8a0001346\n",
            "  Stored in directory: /root/.cache/pip/wheels/cd/7d/6b/17150450b80b4a3656a84330e22709ccd8dc0f8f4773ba4133\n",
            "Successfully built torch_geometric\n",
            "Installing collected packages: torch_spline_conv, torch_scatter, pyg_lib, torch_sparse, torch_cluster, torch_geometric\n",
            "Successfully installed pyg_lib-0.2.0+pt113cu116 torch_cluster-1.6.1+pt113cu116 torch_geometric-2.3.0 torch_scatter-2.1.1+pt113cu116 torch_sparse-0.6.17+pt113cu116 torch_spline_conv-1.2.2+pt113cu116\n"
          ]
        }
      ],
      "source": [
        "!pip install pyg_lib torch_scatter torch_sparse torch_cluster torch_spline_conv torch_geometric -f https://data.pyg.org/whl/torch-1.13.1+cu116.html"
      ]
    },
    {
      "cell_type": "markdown",
      "metadata": {
        "id": "-88vlvOPm0Dr"
      },
      "source": [
        "Once the GPU is set up and the required libraries are installed, restart runtime and just run the code from here (i.e., no need to set up the system again). "
      ]
    },
    {
      "cell_type": "code",
      "execution_count": 6,
      "metadata": {
        "id": "kq3YmUYzymPj"
      },
      "outputs": [],
      "source": [
        "import torch\n",
        "import torch_geometric"
      ]
    },
    {
      "cell_type": "code",
      "execution_count": 7,
      "metadata": {
        "colab": {
          "base_uri": "https://localhost:8080/",
          "height": 0
        },
        "id": "tPrdcadBgkSK",
        "outputId": "fd70d578-71c8-4d9b-96f4-4b24bd5364c9"
      },
      "outputs": [
        {
          "output_type": "stream",
          "name": "stdout",
          "text": [
            "True\n"
          ]
        }
      ],
      "source": [
        "# Free 0.1 points for understanding the above steps and successfully enabling CUDA and installing libraries. If you set it up on your local machine \n",
        "# (for which you would need to change the above steps to match your local configuration), kudos to you!\n",
        "device = torch.device(\"cuda\" if torch.cuda.is_available() else \"cpu\")\n",
        "print (torch.cuda.is_available())"
      ]
    },
    {
      "cell_type": "markdown",
      "metadata": {
        "id": "dmmLoZo1X_J3"
      },
      "source": [
        "# Data loading"
      ]
    },
    {
      "cell_type": "code",
      "execution_count": 8,
      "metadata": {
        "id": "64Asi7wmXmW8",
        "colab": {
          "base_uri": "https://localhost:8080/",
          "height": 0
        },
        "outputId": "fff70370-ae34-43d6-ec60-de9ca41d2aa0"
      },
      "outputs": [
        {
          "output_type": "stream",
          "name": "stderr",
          "text": [
            "Downloading https://github.com/kimiyoung/planetoid/raw/master/data/ind.citeseer.x\n",
            "Downloading https://github.com/kimiyoung/planetoid/raw/master/data/ind.citeseer.tx\n",
            "Downloading https://github.com/kimiyoung/planetoid/raw/master/data/ind.citeseer.allx\n",
            "Downloading https://github.com/kimiyoung/planetoid/raw/master/data/ind.citeseer.y\n",
            "Downloading https://github.com/kimiyoung/planetoid/raw/master/data/ind.citeseer.ty\n",
            "Downloading https://github.com/kimiyoung/planetoid/raw/master/data/ind.citeseer.ally\n",
            "Downloading https://github.com/kimiyoung/planetoid/raw/master/data/ind.citeseer.graph\n",
            "Downloading https://github.com/kimiyoung/planetoid/raw/master/data/ind.citeseer.test.index\n",
            "Processing...\n",
            "Done!\n"
          ]
        }
      ],
      "source": [
        "from torch_geometric.datasets import Planetoid\n",
        "\n",
        "# Checkout the documentation https://pytorch-geometric.readthedocs.io/en/latest/modules/datasets.html#torch_geometric.datasets.Planetoid\n",
        "# for more details about the dataset\n",
        "\n",
        "name = 'Citeseer'\n",
        "dataset= Planetoid('./', name)\n",
        "data = dataset[0].to(device)"
      ]
    },
    {
      "cell_type": "markdown",
      "metadata": {
        "id": "CJ3y4TmURXZH"
      },
      "source": [
        "Check the different variables of the Planetoid data object and understand their meanings from the documentation (https://pytorch-geometric.readthedocs.io/en/latest/modules/datasets.html#torch_geometric.datasets.Planetoid). You would need them. "
      ]
    },
    {
      "cell_type": "code",
      "execution_count": 9,
      "metadata": {
        "colab": {
          "base_uri": "https://localhost:8080/",
          "height": 0
        },
        "id": "g7e0hwcwRn-R",
        "outputId": "d9a263b6-6ef9-49f4-ca79-8b99b2741b9b"
      },
      "outputs": [
        {
          "output_type": "execute_result",
          "data": {
            "text/plain": [
              "['num_classes', 'num_edge_features', 'num_features', 'num_node_features']"
            ]
          },
          "metadata": {},
          "execution_count": 9
        }
      ],
      "source": [
        "[x for x in dir(dataset) if x.startswith('num')]"
      ]
    },
    {
      "cell_type": "code",
      "execution_count": 10,
      "metadata": {
        "colab": {
          "base_uri": "https://localhost:8080/",
          "height": 0
        },
        "id": "IYhO_e4bazi_",
        "outputId": "fd051563-1e27-4334-fef0-7d3bcb6d9b84"
      },
      "outputs": [
        {
          "output_type": "execute_result",
          "data": {
            "text/plain": [
              "Data(x=[3327, 3703], edge_index=[2, 9104], y=[3327], train_mask=[3327], val_mask=[3327], test_mask=[3327])"
            ]
          },
          "metadata": {},
          "execution_count": 10
        }
      ],
      "source": [
        "data"
      ]
    },
    {
      "cell_type": "markdown",
      "metadata": {
        "id": "Qt0vVXpakx54"
      },
      "source": [
        "Suppose the graph is $\\mathbf{G} = (\\mathbf{X}, (\\mathbf{V}, \\mathbf{E}))$, where $\\mathbf{X}$ denote the note attribute matrix of size $N \\times F$, $\\mathbf{V}$ denotes the set of nodes ($N = |\\mathbf{V}|$), and $\\mathbf{E}$ denotes the set of edges. Then, we store this graph in the following data structure:\n",
        "\n",
        "- `data.x`: Node feature matrix $\\mathbf{X}$\n",
        "- `data.edge_index`: Set of edges $\\mathbf{E}$ sorted in an increasing order of the first node id (and second node id if same first node id).\n",
        "- `data.train_mask`: Training set of node ids for node classification\n",
        "- `data.val_mask`: Validation set of node ids for node classification\n",
        "- `data.test_mask`: Validation set of node ids for node classification\n",
        "\n",
        "For more details, refer the [documentation](https://pytorch-geometric.readthedocs.io/en/latest/modules/datasets.html#torch_geometric.datasets.Planetoid). "
      ]
    },
    {
      "cell_type": "markdown",
      "metadata": {
        "id": "WxrxmtHSUrR-"
      },
      "source": [
        "# Section 1: Node classification task [3.5 points]\n"
      ]
    },
    {
      "cell_type": "markdown",
      "metadata": {
        "id": "aO8t4B0CWIzs"
      },
      "source": [
        "In this section, we will perform node classfication on the Citeseer dataset. As an initial step, we need to implement a two-layer MLP model. After that, we will implement and use a two-layer GCN model. Finally, we will compare the performance between the MLP and GCN models."
      ]
    },
    {
      "cell_type": "markdown",
      "metadata": {
        "id": "IcztBoBiYB2d"
      },
      "source": [
        "## Section 1.1: General Model [1.5 points]"
      ]
    },
    {
      "cell_type": "markdown",
      "metadata": {
        "id": "xjM_jO_vadMU"
      },
      "source": [
        "#### Model Definition [0.2 points]\n",
        "\n",
        "First let us define a model that tries to memorize the class probabilities directly for each node without using the features or the graph structure."
      ]
    },
    {
      "cell_type": "code",
      "execution_count": 11,
      "metadata": {
        "id": "b2ddBTjj7nIQ"
      },
      "outputs": [],
      "source": [
        "import torch\n",
        "import torch.nn.functional as F\n",
        "\n",
        "class NCModel (torch.nn.Module):\n",
        "    def __init__(self, dataset):\n",
        "        super().__init__()\n",
        "        self.logits = torch.nn.Parameter(torch.rand(dataset[0].num_nodes, dataset.num_classes))\n",
        "        self.num_classes = dataset.num_classes\n",
        "    \n",
        "    def forward (self, data):\n",
        "        # returns log probabilities for each class in num_classes\n",
        "        # Default is a random distribution\n",
        "        return F.log_softmax(self.logits, dim=1)\n",
        "\n",
        "    def predict (self, data):\n",
        "        pred = None\n",
        "        # Step 1: Run forward pass on the entire data to obtain the logits for each class. \n",
        "        logits = self.forward(data)\n",
        "\n",
        "        # Step 2: Obtain the predicted class as the one with the highest logit value. Store the predicted class in the variable pred.\n",
        "        ### write your code below [0.2 points] ##\n",
        "        pred = []\n",
        "        for row in logits:\n",
        "          m = max(row)\n",
        "          for i in range(len(row)):\n",
        "            if row[i] == m:\n",
        "              pred.append(i)\n",
        "        #########################################\n",
        "        return pred"
      ]
    },
    {
      "cell_type": "code",
      "execution_count": 12,
      "metadata": {
        "id": "polH0X26Yx6A"
      },
      "outputs": [],
      "source": [
        "mem_model = NCModel (dataset).to(device)"
      ]
    },
    {
      "cell_type": "markdown",
      "metadata": {
        "id": "8qtm8BDkYqwb"
      },
      "source": [
        "### General Training [1.3 points]"
      ]
    },
    {
      "cell_type": "markdown",
      "metadata": {
        "id": "NFmtdIe1YuWq"
      },
      "source": [
        "**Setup** [0.2 points]"
      ]
    },
    {
      "cell_type": "code",
      "execution_count": 13,
      "metadata": {
        "id": "f9ZViSirYPk0"
      },
      "outputs": [],
      "source": [
        "criterion = None\n",
        "\n",
        "# Initialize loss criterion as the negative log likelihood function\n",
        "### write your code below [0.1 points] ##\n",
        "criterion = torch.nn.NLLLoss()\n",
        "#########################################\n",
        "\n",
        "def optimizer_fn (model, lr, wd):\n",
        "    optimizer = None\n",
        "    # Return a SGD optimizer over the parameters of the model with learning rate = lr and weight_decay=wd for the gradient descent updates.\n",
        "    ### write your code below [0.1 points] ##\n",
        "    optimizer = torch.optim.SGD(model.parameters(), lr=lr, weight_decay=wd)\n",
        "    #########################################\n",
        "    return optimizer"
      ]
    },
    {
      "cell_type": "markdown",
      "metadata": {
        "id": "FQh-Bjzqasj8"
      },
      "source": [
        "**Backpropagating the loss criterion** [0.5 points]"
      ]
    },
    {
      "cell_type": "code",
      "execution_count": 14,
      "metadata": {
        "id": "sz2oPALbbAne"
      },
      "outputs": [],
      "source": [
        "# Gradient Descent training algorithm. We will use this function for MLP and GCN too.\n",
        "def train (model, data, criterion, optimizer):\n",
        "    model.train()\n",
        "    train_loss = None\n",
        "    # Step 1: Run forward pass on the entire graph dataset. Note that this is a semi-supervised setting. \n",
        "    # Step 2: Extract the class probabilities of only the training nodes (you can use data.train_mask to obtain them). \n",
        "    # Step 3: Compute the loss between predicted probabilities and the actual labels of training nodes and store it in train_loss\n",
        "    # Step 4: Compute the gradients of the training loss with respect to each parameter using the backward() call.\n",
        "    # Step 5: Update the model parameters using the optimizer step() call.\n",
        "    # Make sure to return a detached cpu tensor\n",
        "    ### write your code below [0.4 points] ##\n",
        "\n",
        "    # step1\n",
        "    f_pass = model.forward(data)\n",
        "    # step2\n",
        "    f_pass_training = f_pass[data.train_mask]\n",
        "    # step3\n",
        "    train_loss = criterion(f_pass_training, data.y[data.train_mask])\n",
        "    # step4\n",
        "    grad = train_loss.backward()\n",
        "    # step5\n",
        "    optimizer.step()\n",
        "    \n",
        "    #########################################\n",
        "    return train_loss.detach().cpu()"
      ]
    },
    {
      "cell_type": "markdown",
      "metadata": {
        "id": "93X2ZXPCgT67"
      },
      "source": [
        "**Validation** [0.2 points]"
      ]
    },
    {
      "cell_type": "code",
      "execution_count": 15,
      "metadata": {
        "id": "QOYXspT7beFJ"
      },
      "outputs": [],
      "source": [
        "# Validate the model on a held-out validataion dataset. We will reuse this function for GCN too.\n",
        "def validate (model, data, criterion):\n",
        "    model.eval()\n",
        "    val_loss = None\n",
        "    with torch.no_grad():\n",
        "        # Step 1: Run forward pass on the dataset. \n",
        "        # Step 2: Extract the class probabilities of only the validation nodes (you can use data.val_mask to obtain them). \n",
        "        # Step 3: Compute the loss between predicted probabilities and the actual labels of validation nodes and store it in val_loss\n",
        "        # Make sure to return a CPU tensor.\n",
        "        ### write your code below [0.2 points] ##\n",
        "\n",
        "        # step1\n",
        "        f_pass = model.forward(data)\n",
        "        # step2\n",
        "        f_pass_val = f_pass[data.val_mask]\n",
        "        # step3\n",
        "\n",
        "        val_loss = criterion(f_pass_val, data.y[data.val_mask])\n",
        "        # print(type(val_loss))\n",
        "\n",
        "\n",
        "        #########################################\n",
        "    return val_loss.cpu()"
      ]
    },
    {
      "cell_type": "markdown",
      "metadata": {
        "id": "jD0liv7pgMnP"
      },
      "source": [
        "**Training loop**"
      ]
    },
    {
      "cell_type": "code",
      "execution_count": 16,
      "metadata": {
        "id": "oPgnNPzSfzEU",
        "colab": {
          "base_uri": "https://localhost:8080/",
          "height": 0
        },
        "outputId": "4030abb2-7456-42c6-b89e-e4b1b6208e8e"
      },
      "outputs": [
        {
          "output_type": "stream",
          "name": "stdout",
          "text": [
            "Epoch: 010, Training Loss: 1.7985 Validation Loss: 1.8303\n",
            "Epoch: 020, Training Loss: 1.7884 Validation Loss: 1.8303\n",
            "Epoch: 030, Training Loss: 1.7714 Validation Loss: 1.8303\n",
            "Epoch: 040, Training Loss: 1.7477 Validation Loss: 1.8303\n",
            "Epoch: 050, Training Loss: 1.7173 Validation Loss: 1.8303\n",
            "Epoch: 060, Training Loss: 1.6804 Validation Loss: 1.8303\n",
            "Epoch: 070, Training Loss: 1.6373 Validation Loss: 1.8303\n",
            "Epoch: 080, Training Loss: 1.5882 Validation Loss: 1.8303\n",
            "Epoch: 090, Training Loss: 1.5335 Validation Loss: 1.8303\n",
            "Epoch: 100, Training Loss: 1.4736 Validation Loss: 1.8303\n",
            "Epoch: 110, Training Loss: 1.4089 Validation Loss: 1.8303\n",
            "Epoch: 120, Training Loss: 1.3400 Validation Loss: 1.8303\n",
            "Epoch: 130, Training Loss: 1.2674 Validation Loss: 1.8303\n",
            "Epoch: 140, Training Loss: 1.1919 Validation Loss: 1.8303\n",
            "Epoch: 150, Training Loss: 1.1140 Validation Loss: 1.8303\n",
            "Epoch: 160, Training Loss: 1.0347 Validation Loss: 1.8303\n",
            "Epoch: 170, Training Loss: 0.9547 Validation Loss: 1.8303\n",
            "Epoch: 180, Training Loss: 0.8748 Validation Loss: 1.8303\n",
            "Epoch: 190, Training Loss: 0.7961 Validation Loss: 1.8303\n",
            "Epoch: 200, Training Loss: 0.7193 Validation Loss: 1.8303\n"
          ]
        }
      ],
      "source": [
        "# Let us train this model.\n",
        "torch.manual_seed(42)\n",
        "\n",
        "# Hyperparameters of the model. DO NOT CHANGE.\n",
        "num_epochs = 200 # Number of epochs\n",
        "lr = 0.01 # learning rate, also called step size sometimes\n",
        "wd = 1e-4 # Weight decay, regularization parameter (ensures that we don't overfit to the training data)\n",
        "\n",
        "optimizer = optimizer_fn (mem_model, lr, wd)\n",
        "\n",
        "training_loss = []\n",
        "validation_loss = []\n",
        "\n",
        "for epoch in range(1, num_epochs+1):\n",
        "    train_loss = train (mem_model, data, criterion, optimizer)\n",
        "    val_loss = validate (mem_model, data, criterion)\n",
        "    training_loss.append(train_loss)\n",
        "    validation_loss.append(val_loss)\n",
        "    # Print loss values every 10 epochs\n",
        "    if epoch%10 == 0:\n",
        "      print(f'Epoch: {epoch:03d}, Training Loss: {train_loss:.4f} Validation Loss: {val_loss:.4f}')"
      ]
    },
    {
      "cell_type": "markdown",
      "metadata": {
        "id": "gcdv8xqrgPb7"
      },
      "source": [
        "**Plotting the loss curves**"
      ]
    },
    {
      "cell_type": "code",
      "execution_count": 17,
      "metadata": {
        "id": "VWrxjQDwgHy3",
        "colab": {
          "base_uri": "https://localhost:8080/",
          "height": 281
        },
        "outputId": "f2d0ccd0-832f-4018-8e3c-a1adfa63460c"
      },
      "outputs": [
        {
          "output_type": "display_data",
          "data": {
            "text/plain": [
              "<Figure size 432x288 with 1 Axes>"
            ],
            "image/png": "[encoded data removed]"
          },
          "metadata": {
            "needs_background": "light"
          }
        }
      ],
      "source": [
        "import matplotlib.pyplot as plt\n",
        "%matplotlib inline\n",
        "\n",
        "plt.plot(range(len(training_loss)), training_loss, color='green', label='train loss')\n",
        "plt.plot(range(len(validation_loss)), validation_loss, color='red', label='val loss')\n",
        "plt.legend()\n",
        "plt.title(\"Train & Val loss plot\")\n",
        "plt.show()"
      ]
    },
    {
      "cell_type": "markdown",
      "metadata": {
        "id": "UmkFKOvhmBtn"
      },
      "source": [
        "**Evaluation** [0.4 points]\n",
        "1. For this task, we will be using the standard accuracy metric which captures **`total_correct_predictions / total_predictions`** \n",
        "2. Accuracy should be calculated using the **test** nodes in dataset. Compute predictions for each node, and use the **predictions along with ground truth (y)** to get the accuracy value\n",
        "\n",
        "Other metrics can be used, such as F1 and AUC, but we will restrict ourselves to accuracy as part of this homework. We will reuse the evaluate accuracy function below as well. "
      ]
    },
    {
      "cell_type": "code",
      "execution_count": 18,
      "metadata": {
        "id": "VNdj_yyRhVbS"
      },
      "outputs": [],
      "source": [
        "# Let us evaluate the performance of the model on the node classification task\n",
        "def evaluate_accuracy(model, data, eval_mask):\n",
        "      acc = None\n",
        "      # Step 1: Call the predict() function of model to get the predicted labels of the model.\n",
        "      # Step 2: Extract the predicted labels of the `eval_mask` nodes (note that eval_mask could be one of the train_mask, val_mask, test_mask). \n",
        "      # Step 3: Extract the ground truth labels of the `eval_mask` nodes. \n",
        "      # Step 4: Use predicted class and ground truth class of `eval_mask` nodes to compute accuracy\n",
        "      # To calculate accuracy use the following formula \"\"Accuracy = (number of correct predictions in the test set / size of test set)\"\"\n",
        "      # Write your code below [0.4 points]\n",
        "\n",
        "      #########################################\n",
        "      # step1\n",
        "      all_preds = torch.tensor(model.predict(data)).to(device)\n",
        "      # step2\n",
        "      subset_preds = all_preds[eval_mask]\n",
        "      # step3\n",
        "      ground_truth_labels = data.y[eval_mask]\n",
        "      # step4\n",
        "      correct = 0\n",
        "      for i in range(subset_preds.shape[0]):\n",
        "        if subset_preds[i] == ground_truth_labels[i]:\n",
        "          correct += 1\n",
        "      \n",
        "      acc = correct/subset_preds.shape[0]\n",
        "\n",
        "      return acc"
      ]
    },
    {
      "cell_type": "code",
      "execution_count": 19,
      "metadata": {
        "id": "--6_l8e7iW-A",
        "colab": {
          "base_uri": "https://localhost:8080/",
          "height": 0
        },
        "outputId": "84690162-9205-4ae4-9ebf-b3b343565d38"
      },
      "outputs": [
        {
          "output_type": "stream",
          "name": "stdout",
          "text": [
            "Accuracy: Train 1.0000, Val 0.1440, Test 0.1790\n",
            "Sanity check for the test: True\n"
          ]
        }
      ],
      "source": [
        "# Let us evaluate our model using accuracy of its predictions. \n",
        "test_acc = None\n",
        "mem_model.eval()\n",
        "with torch.no_grad():\n",
        "    train_acc = evaluate_accuracy(mem_model, data, data.train_mask)\n",
        "    val_acc = evaluate_accuracy(mem_model, data, data.val_mask)\n",
        "    test_acc = evaluate_accuracy(mem_model, data, data.test_mask)\n",
        "\n",
        "print(f'Accuracy: Train {train_acc:.4f}, Val {val_acc:.4f}, Test {test_acc:.4f}')\n",
        "print(f\"Sanity check for the test: {abs(test_acc - 1/6) <= 5e-2}\")"
      ]
    },
    {
      "cell_type": "markdown",
      "metadata": {
        "id": "MmFh11YPkUGL"
      },
      "source": [
        "So, it's a useless model as it completely overfits on the data with no generalization as we learn a separate probability distribution for each node with no way of generalizing knowledge from training nodes. The model thus predicts randomly (there are 6 classes and thus, the accuracy for random predictions would be 1/6). "
      ]
    },
    {
      "cell_type": "markdown",
      "metadata": {
        "id": "tEN_Vzyxdvlo"
      },
      "source": [
        "## Section 1.2: MLP for node classification [0.9 points]\n",
        "\n",
        "Let us now use the input data a little more carefully. In particular, let us make use of the input node attributes to learn the node labels using a two layer perceptron."
      ]
    },
    {
      "cell_type": "markdown",
      "metadata": {
        "id": "KGApagIhKVIT"
      },
      "source": [
        "**MLP Model Definition** [0.9 points]\n",
        "\n",
        "Implement a two layer MLP with hidden dimension size as 16 and train the model on the dataset. We want to use ReLU activation and dropout with p = 0.2"
      ]
    },
    {
      "cell_type": "code",
      "execution_count": 20,
      "metadata": {
        "id": "dB1kyZxoXZE4"
      },
      "outputs": [],
      "source": [
        "import torch\n",
        "from torch.nn import Linear\n",
        "import torch.nn.functional as F\n",
        "\n",
        "class MLP (NCModel):\n",
        "    def __init__(self, dataset, hidden_channels=32, dropout_probability=0.5):\n",
        "        super(MLP, self).__init__(dataset)\n",
        "        \"\"\"\n",
        "        Use the constructor to initialize the layers of the network. In this case 2 linear layers\n",
        "        Read more about Linear layers in PyTorch here: https://pytorch.org/docs/stable/generated/torch.nn.Linear.html#linear\n",
        "        \"\"\"\n",
        "\n",
        "        self.lin1 = None \n",
        "        self.lin2 = None\n",
        "        self.dropout_p = dropout_probability\n",
        "\n",
        "        # 1. The first linear layer (self.lin1) should convert the input features to hidden dimension size which will then be fed into self.lin2\n",
        "        # 2. The second linear layer (self.lin2) should convert the output of self.lin1 to output dimension (number of classes/labels in our case)\n",
        "\n",
        "        ### write your code below [0.3 points] ##\n",
        "\n",
        "        #step1\n",
        "        self.lin1 = Linear(dataset.num_features, hidden_channels)\n",
        "        self.lin2 = Linear(hidden_channels, dataset.num_classes)\n",
        "        \n",
        "        #########################################\n",
        "\n",
        "\n",
        "    def forward(self, data):\n",
        "        # overriding the random model\n",
        "        out = None\n",
        "        # Step 1. Extract node features and target labels from data\n",
        "        # Step 2. Call the first linear layer (self.lin1)\n",
        "        # Step 3. The output of the linear layer should be passed through a ReLU non-linearity\n",
        "        # Step 4. Apply dropout with dropout probability p as self.dropout_p \n",
        "        # Step 5: Apply the second linear layer to get the logits\n",
        "        # Step 6: Convert the logits to log probabilities using log_softmax and return them.\n",
        "        ### write your code below [0.6 points] ##\n",
        "\n",
        "        # step1\n",
        "        data = dataset[0].to(device)\n",
        "        features = data.x\n",
        "        labels = data.y\n",
        "\n",
        "        # step2\n",
        "        features = self.lin1(features)\n",
        "        features = features.relu()\n",
        "        features = F.dropout(features, p=self.dropout_p, training=self.training)\n",
        "\n",
        "        # step3\n",
        "        features = self.lin2(features)\n",
        "        out = F.log_softmax(features, dim=1)\n",
        "\n",
        "        #########################################\n",
        "        return out"
      ]
    },
    {
      "cell_type": "code",
      "execution_count": 21,
      "metadata": {
        "id": "p3qWxCd1vd65",
        "colab": {
          "base_uri": "https://localhost:8080/",
          "height": 0
        },
        "outputId": "82fcb59a-49aa-47a5-ff1b-f5627b67e5af"
      },
      "outputs": [
        {
          "output_type": "stream",
          "name": "stdout",
          "text": [
            "MLP(\n",
            "  (lin1): Linear(in_features=3703, out_features=16, bias=True)\n",
            "  (lin2): Linear(in_features=16, out_features=6, bias=True)\n",
            ")\n"
          ]
        }
      ],
      "source": [
        "hidden_channels=16\n",
        "dropout_probability=0.2\n",
        "\n",
        "mlp_model = MLP(dataset, hidden_channels=hidden_channels, dropout_probability=dropout_probability).to(device)\n",
        "\n",
        "## Print the model and double check that you have implemented the correct 2-layer MLP\n",
        "print(mlp_model)"
      ]
    },
    {
      "cell_type": "markdown",
      "metadata": {
        "id": "UzCYKxBj0GfV"
      },
      "source": [
        "**Training Loop**"
      ]
    },
    {
      "cell_type": "code",
      "execution_count": 22,
      "metadata": {
        "id": "D8N_YZA8v2QX",
        "colab": {
          "base_uri": "https://localhost:8080/",
          "height": 0
        },
        "outputId": "7426b4c7-2001-4886-9577-863e66dd869f"
      },
      "outputs": [
        {
          "output_type": "stream",
          "name": "stdout",
          "text": [
            "Epoch: 010, Training Loss: 1.7793 Validation Loss: 1.7711\n",
            "Epoch: 020, Training Loss: 1.7138 Validation Loss: 1.7512\n",
            "Epoch: 030, Training Loss: 1.5766 Validation Loss: 1.7067\n",
            "Epoch: 040, Training Loss: 1.3521 Validation Loss: 1.6366\n",
            "Epoch: 050, Training Loss: 1.0236 Validation Loss: 1.5206\n",
            "Epoch: 060, Training Loss: 0.6127 Validation Loss: 1.3628\n",
            "Epoch: 070, Training Loss: 0.3155 Validation Loss: 1.2466\n"
          ]
        }
      ],
      "source": [
        "# Let us train this model.\n",
        "torch.manual_seed(42)\n",
        "\n",
        "# Hyperparameters of the model. DO NOT CHANGE.\n",
        "num_epochs = 75 # Number of epochs\n",
        "lr = 0.01 # learning rate, also called step size sometimes\n",
        "wd = 1e-4 # Weight decay, regularization parameter (ensures that we don't overfit to the training data)\n",
        "\n",
        "optimizer = optimizer_fn (mlp_model, lr, wd)\n",
        "training_loss = []\n",
        "validation_loss = []\n",
        "for epoch in range(1, num_epochs+1):\n",
        "    train_loss = train (mlp_model, data, criterion, optimizer)\n",
        "    val_loss = validate (mlp_model, data, criterion)\n",
        "    training_loss.append(train_loss)\n",
        "    validation_loss.append(val_loss)\n",
        "    # Print loss values every 10 epochs\n",
        "    if epoch%10 == 0:\n",
        "      print(f'Epoch: {epoch:03d}, Training Loss: {train_loss:.4f} Validation Loss: {val_loss:.4f}')"
      ]
    },
    {
      "cell_type": "markdown",
      "metadata": {
        "id": "n6dhqgtoSskh"
      },
      "source": [
        "**Plotting the loss curves**"
      ]
    },
    {
      "cell_type": "code",
      "execution_count": 23,
      "metadata": {
        "id": "NMLCbmBvNaRQ",
        "colab": {
          "base_uri": "https://localhost:8080/",
          "height": 281
        },
        "outputId": "9044231b-7d91-4cfe-c067-42f471e31910"
      },
      "outputs": [
        {
          "output_type": "display_data",
          "data": {
            "text/plain": [
              "<Figure size 432x288 with 1 Axes>"
            ],
            "image/png": "[encoded data removed]"
          },
          "metadata": {
            "needs_background": "light"
          }
        }
      ],
      "source": [
        "import matplotlib.pyplot as plt\n",
        "%matplotlib inline\n",
        "\n",
        "plt.plot(range(len(training_loss)), training_loss, color='green', label='train loss')\n",
        "plt.plot(range(len(validation_loss)), validation_loss, color='red', label='val loss')\n",
        "plt.legend()\n",
        "plt.title(\"Train & Val loss plot\")\n",
        "plt.show()"
      ]
    },
    {
      "cell_type": "markdown",
      "metadata": {
        "id": "HnROLe0Gp04G"
      },
      "source": [
        "**Evaluation**"
      ]
    },
    {
      "cell_type": "code",
      "execution_count": 24,
      "metadata": {
        "id": "18uyi4hjmJMT",
        "colab": {
          "base_uri": "https://localhost:8080/",
          "height": 0
        },
        "outputId": "ec22f962-4157-4616-a709-815d3d155eeb"
      },
      "outputs": [
        {
          "output_type": "stream",
          "name": "stdout",
          "text": [
            "Accuracy: Train 1.0000, Val 0.5760, Test 0.5810\n",
            "Sanity check for the test: True\n"
          ]
        }
      ],
      "source": [
        "# Let us evaluate our model using accuracy of its predictions. \n",
        "test_acc = None\n",
        "mlp_model.eval()\n",
        "with torch.no_grad():\n",
        "    train_acc = evaluate_accuracy(mlp_model, data, data.train_mask)\n",
        "    val_acc = evaluate_accuracy(mlp_model, data, data.val_mask)\n",
        "    test_acc = evaluate_accuracy(mlp_model, data, data.test_mask)\n",
        "\n",
        "print(f'Accuracy: Train {train_acc:.4f}, Val {val_acc:.4f}, Test {test_acc:.4f}')\n",
        "print(f\"Sanity check for the test: {test_acc > 0.55}\") "
      ]
    },
    {
      "cell_type": "markdown",
      "metadata": {
        "id": "USU7OR4qoDKp"
      },
      "source": [
        "Great, the model is able to learn something as we get at least 50% test accuracy! (much more than the random predictions). So, using node features help in generalization. Can we do better?"
      ]
    },
    {
      "cell_type": "markdown",
      "metadata": {
        "id": "GnvDJ2GLUuNu"
      },
      "source": [
        "## Section 1.3 GCN for node classification [0.9 points]\n",
        "\n",
        "The dataset has more information. In particular, we have the graph structure that relates a pair of nodes. Note that this is a semi-supervised setting so the nodes in the evaluation and test phase are also available during training. How to exploit the graph to learn the correlated probabilites of these nodes? "
      ]
    },
    {
      "cell_type": "markdown",
      "metadata": {
        "id": "MwJdNgOVVBpd"
      },
      "source": [
        "**GCN Model Definition** [0.5 points]\n",
        "\n",
        "Implement a 2 layer GCN using methods from Pytorch Geometric.\n",
        "\n",
        "\n",
        "\n"
      ]
    },
    {
      "cell_type": "code",
      "execution_count": 25,
      "metadata": {
        "id": "AydPKewyZuLq"
      },
      "outputs": [],
      "source": [
        "import torch.nn as nn\n",
        "import torch.nn.functional as F\n",
        "\n",
        "# Note: You will be using the GCNConv to implement a graph convolution layer\n",
        "from torch_geometric.nn import GCNConv \n",
        "\n",
        "# Implement a GCN model with 2 GCNConv layers with ReLU non-linearity and dropout\n",
        "class GCN(NCModel):\n",
        "    def __init__(self, dataset, hidden_channels, dropout_probability):\n",
        "        super(GCN, self).__init__(dataset)\n",
        "        self.dataset = dataset\n",
        "        self.conv1 = None\n",
        "        self.conv2 = None\n",
        "        self.dropout_p = dropout_probability\n",
        "\n",
        "        # Implement a GCN model with 2 GCNConv layers with ReLU non-linearity and dropout\n",
        "        # Step 1: Define the first convolutional layer (self.conv1) with input as the node features and output = hidden dimension size\n",
        "        # Step 2: Define the second convolution layer (self.conv2) with input as hidden dimension size and output would be number of classes in the dataset\n",
        "        \n",
        "        ### write your code below [0.3 points] ##\n",
        "        self.conv1 = GCNConv(dataset.num_features, hidden_channels)\n",
        "        self.conv2 = GCNConv(hidden_channels, dataset.num_classes)\n",
        "        \n",
        "        #########################################\n",
        "\n",
        "    def forward(self, data):\n",
        "        out = None\n",
        "\n",
        "        # Step 1: Using the node features and the edge_index, compute intermediate representation via the first GCNConv layer\n",
        "        # Step 2: Apply the ReLU non-linearity on the output of self.conv1\n",
        "        # Step 3: Apply dropout\n",
        "        # Step 4: Pass the output of step 3 through the second convolutional layer to get output logits\n",
        "        # Step 5: Convert the logits to log probabilities using log_softmax and return them.\n",
        "\n",
        "        ### write your code below [0.6 points] ##\n",
        "\n",
        "        # step1\n",
        "        data = dataset[0].to(device)\n",
        "        features = data.x\n",
        "        labels = data.y\n",
        "\n",
        "        # step2\n",
        "        features = self.conv1(features, data.edge_index)\n",
        "        features = features.relu()\n",
        "\n",
        "        # step3\n",
        "        features = F.dropout(features, p=self.dropout_p, training=self.training)\n",
        "\n",
        "        # step4\n",
        "        features = self.conv2(features, data.edge_index)\n",
        "        out = F.log_softmax(features, dim=1)\n",
        "        \n",
        "\n",
        "        #########################################\n",
        "\n",
        "        return out"
      ]
    },
    {
      "cell_type": "code",
      "execution_count": 26,
      "metadata": {
        "id": "HwmVdo9wwKzp",
        "colab": {
          "base_uri": "https://localhost:8080/",
          "height": 0
        },
        "outputId": "4e4f4774-255c-4b00-d88c-0ff475736f52"
      },
      "outputs": [
        {
          "output_type": "stream",
          "name": "stdout",
          "text": [
            "GCN(\n",
            "  (conv1): GCNConv(3703, 16)\n",
            "  (conv2): GCNConv(16, 6)\n",
            ")\n"
          ]
        }
      ],
      "source": [
        "# Hyperparameters of the model. DO NOT CHANGE.\n",
        "hidden_channels = 16\n",
        "dropout_probability = 0.2\n",
        "\n",
        "gcn_model = GCN(dataset, hidden_channels=hidden_channels, dropout_probability=dropout_probability).to(device)\n",
        "print(gcn_model)\n"
      ]
    },
    {
      "cell_type": "markdown",
      "metadata": {
        "id": "XyASsRioqfDx"
      },
      "source": [
        "**Training Loop**"
      ]
    },
    {
      "cell_type": "code",
      "execution_count": 27,
      "metadata": {
        "id": "vgzA7pjfqfDx",
        "colab": {
          "base_uri": "https://localhost:8080/",
          "height": 0
        },
        "outputId": "9aaae1bd-9040-42d1-af1e-d01196ead05e"
      },
      "outputs": [
        {
          "output_type": "stream",
          "name": "stdout",
          "text": [
            "Epoch: 010, Training Loss: 1.7986 Validation Loss: 1.7965\n",
            "Epoch: 020, Training Loss: 1.7824 Validation Loss: 1.7930\n",
            "Epoch: 030, Training Loss: 1.7711 Validation Loss: 1.7876\n",
            "Epoch: 040, Training Loss: 1.7569 Validation Loss: 1.7802\n",
            "Epoch: 050, Training Loss: 1.7375 Validation Loss: 1.7705\n",
            "Epoch: 060, Training Loss: 1.7099 Validation Loss: 1.7575\n",
            "Epoch: 070, Training Loss: 1.6766 Validation Loss: 1.7402\n",
            "Epoch: 080, Training Loss: 1.6416 Validation Loss: 1.7177\n",
            "Epoch: 090, Training Loss: 1.5840 Validation Loss: 1.6893\n",
            "Epoch: 100, Training Loss: 1.5388 Validation Loss: 1.6542\n",
            "Epoch: 110, Training Loss: 1.4586 Validation Loss: 1.6112\n",
            "Epoch: 120, Training Loss: 1.4006 Validation Loss: 1.5607\n",
            "Epoch: 130, Training Loss: 1.2961 Validation Loss: 1.5036\n",
            "Epoch: 140, Training Loss: 1.2139 Validation Loss: 1.4409\n",
            "Epoch: 150, Training Loss: 1.1071 Validation Loss: 1.3747\n",
            "Epoch: 160, Training Loss: 1.0186 Validation Loss: 1.3068\n",
            "Epoch: 170, Training Loss: 0.9104 Validation Loss: 1.2399\n",
            "Epoch: 180, Training Loss: 0.8416 Validation Loss: 1.1772\n",
            "Epoch: 190, Training Loss: 0.7157 Validation Loss: 1.1218\n",
            "Epoch: 200, Training Loss: 0.6612 Validation Loss: 1.0771\n",
            "Epoch: 210, Training Loss: 0.5764 Validation Loss: 1.0449\n",
            "Epoch: 220, Training Loss: 0.5054 Validation Loss: 1.0242\n",
            "Epoch: 230, Training Loss: 0.4657 Validation Loss: 1.0113\n",
            "Epoch: 240, Training Loss: 0.4257 Validation Loss: 1.0008\n",
            "Epoch: 250, Training Loss: 0.3464 Validation Loss: 0.9898\n",
            "Epoch: 260, Training Loss: 0.3335 Validation Loss: 0.9784\n",
            "Epoch: 270, Training Loss: 0.3130 Validation Loss: 0.9702\n",
            "Epoch: 280, Training Loss: 0.2771 Validation Loss: 0.9688\n",
            "Epoch: 290, Training Loss: 0.2958 Validation Loss: 0.9776\n",
            "Epoch: 300, Training Loss: 0.2609 Validation Loss: 0.9981\n"
          ]
        }
      ],
      "source": [
        "# Let us train this model.\n",
        "torch.manual_seed(42)\n",
        "\n",
        "# Hyperparameters of the model. DO NOT CHANGE.\n",
        "num_epochs = 300 # Number of epochs\n",
        "lr = 0.001 # learning rate, also called step size sometimes\n",
        "wd = 1e-4 # Weight decay, regularization parameter (ensures that we don't overfit to the training data)\n",
        "\n",
        "optimizer = optimizer_fn (gcn_model, lr, wd)\n",
        "\n",
        "training_loss = []\n",
        "validation_loss = []\n",
        "for epoch in range(1, num_epochs+1):\n",
        "    train_loss = train (gcn_model, data, criterion, optimizer)\n",
        "    val_loss = validate (gcn_model, data, criterion)\n",
        "    training_loss.append(train_loss)\n",
        "    validation_loss.append(val_loss)\n",
        "    # Print loss values every 10 epochs\n",
        "    if epoch%10 == 0:\n",
        "      print(f'Epoch: {epoch:03d}, Training Loss: {train_loss:.4f} Validation Loss: {val_loss:.4f}')"
      ]
    },
    {
      "cell_type": "markdown",
      "metadata": {
        "id": "-tvLvU4YqfDx"
      },
      "source": [
        "**Plotting the loss curves**"
      ]
    },
    {
      "cell_type": "code",
      "execution_count": 28,
      "metadata": {
        "id": "SdcnGCKEqfDx",
        "colab": {
          "base_uri": "https://localhost:8080/",
          "height": 281
        },
        "outputId": "ceefb3db-98e4-4c83-bf0d-443a243913a7"
      },
      "outputs": [
        {
          "output_type": "display_data",
          "data": {
            "text/plain": [
              "<Figure size 432x288 with 1 Axes>"
            ],
            "image/png": "[encoded data removed]"
          },
          "metadata": {
            "needs_background": "light"
          }
        }
      ],
      "source": [
        "import matplotlib.pyplot as plt\n",
        "%matplotlib inline\n",
        "\n",
        "plt.plot(range(len(training_loss)), training_loss, color='green', label='train loss')\n",
        "plt.plot(range(len(validation_loss)), validation_loss, color='red', label='val loss')\n",
        "plt.legend()\n",
        "plt.title(\"Train & Val loss plot\")\n",
        "plt.show()"
      ]
    },
    {
      "cell_type": "markdown",
      "metadata": {
        "id": "emHpPsKKqfDy"
      },
      "source": [
        "**Evaluation**"
      ]
    },
    {
      "cell_type": "code",
      "execution_count": 29,
      "metadata": {
        "id": "q-g71UxYqfDy",
        "colab": {
          "base_uri": "https://localhost:8080/",
          "height": 0
        },
        "outputId": "4e81e322-6c4d-4b15-d620-54ae5018ad11"
      },
      "outputs": [
        {
          "output_type": "stream",
          "name": "stdout",
          "text": [
            "Accuracy: Train 0.9167, Val 0.7080, Test 0.7030\n",
            "Sanity check for the test: True\n"
          ]
        }
      ],
      "source": [
        "# Let us evaluate our model using accuracy of its predictions. \n",
        "test_acc = None\n",
        "gcn_model.eval()\n",
        "with torch.no_grad():\n",
        "    train_acc = evaluate_accuracy(gcn_model, data, data.train_mask)\n",
        "    val_acc = evaluate_accuracy(gcn_model, data, data.val_mask)\n",
        "    test_acc = evaluate_accuracy(gcn_model, data, data.test_mask)\n",
        "\n",
        "print(f'Accuracy: Train {train_acc:.4f}, Val {val_acc:.4f}, Test {test_acc:.4f}')\n",
        "print(f\"Sanity check for the test: {test_acc > 0.70}\") "
      ]
    },
    {
      "cell_type": "markdown",
      "metadata": {
        "id": "i0zS4HNjHS_7"
      },
      "source": [
        "## Section 1.4 Questions [0.2 points]"
      ]
    },
    {
      "cell_type": "markdown",
      "metadata": {
        "id": "hB9ngz4AV_ma"
      },
      "source": [
        "Q. Why does the MLP outperform the memorization/random model? [0.1 points]"
      ]
    },
    {
      "cell_type": "markdown",
      "metadata": {
        "id": "nuPMmcgbWLZ3"
      },
      "source": [
        "> MLPs outperform the memorization/random model because they attempt to learn the structure of the graph (i.e. relationships between the nodes) using a node's features as well as its' neighboring nodes features. Doing this repeatedly with the two hidden linear layers allows the model to learn and extract more information, improving its ability to make predictions."
      ]
    },
    {
      "cell_type": "markdown",
      "metadata": {
        "id": "qWvjDZqsWRHM"
      },
      "source": [
        "Q. Why does GCN outperform the MLP model? [0.1 points]"
      ]
    },
    {
      "cell_type": "markdown",
      "metadata": {
        "id": "2mqFu--YV8nt"
      },
      "source": [
        "> GCNs take learning a step further -- instead of two linear layers, there are two convolution operations performed on the node features. This allows the GCN model to capture non-linear relationships between the nodes, ultimately learning more about the graph structure than the MLP.\n"
      ]
    },
    {
      "cell_type": "markdown",
      "metadata": {
        "id": "iXn9fPeatGsN"
      },
      "source": [
        "# Section 2: Link Prediction [4.4 points]\n",
        "\n",
        "Link Prediction predicts whether a link exists between a pair of nodes. Note that we don't need explicit labels to train for this task. This is because the input graph can be used to create labels for existing (positive) and non-existing (negative) links. We call this a self-supervised learning paradigm.\n",
        "\n",
        "Link Prediction is an extremely useful task for two reasons -- \n",
        "1. It allows us to learn node (and link) representations/embeddings of the graph without any explicit supervision. \n",
        "2. Recommendation as an application can be modeled as a link prediction task. \n",
        "\n",
        "We will use the Citeseer dataset as above. "
      ]
    },
    {
      "cell_type": "code",
      "execution_count": 30,
      "metadata": {
        "id": "5bgVQNbIuvZt",
        "colab": {
          "base_uri": "https://localhost:8080/",
          "height": 0
        },
        "outputId": "9b491439-2227-4c1a-85e1-7fccd0094acc"
      },
      "outputs": [
        {
          "output_type": "execute_result",
          "data": {
            "text/plain": [
              "Data(x=[3327, 3703], edge_index=[2, 9104], y=[3327], train_mask=[3327], val_mask=[3327], test_mask=[3327])"
            ]
          },
          "metadata": {},
          "execution_count": 30
        }
      ],
      "source": [
        "data"
      ]
    },
    {
      "cell_type": "markdown",
      "metadata": {
        "id": "RNiQHGuvu0kq"
      },
      "source": [
        "## Section 2.1: Data creation [1.2 points]"
      ]
    },
    {
      "cell_type": "markdown",
      "metadata": {
        "id": "whzexSSHvFgf"
      },
      "source": [
        "`data.edge_index` stores the array of links in the graph. Let us split this into train, validation, and test sets of links and also find corresponding negative samples. We will use $60\\%$ of the links for training, $10\\%$ for validation, and $30\\%$ for the test.\n",
        "\n",
        "It is worthwhile to note here the structure of `data.edge_index`. The directed links (source, destination) are stored as a 2-D array with the first row storing the source nodes and the second row storing the corresponding destination nodes. `data.edge_index` does not store links in any arbitrary order. Instead, the links are ordered in increasing order of the source node with the link with the smaller destination node id appearing first if two links have the same source node. "
      ]
    },
    {
      "cell_type": "code",
      "execution_count": 31,
      "metadata": {
        "id": "qc3b5BzzviGL",
        "colab": {
          "base_uri": "https://localhost:8080/",
          "height": 0
        },
        "outputId": "1d92f6df-e7f1-4bce-d2bc-6af4a9591620"
      },
      "outputs": [
        {
          "output_type": "execute_result",
          "data": {
            "text/plain": [
              "tensor([[   0,    1,    1,  ..., 3324, 3325, 3326],\n",
              "        [ 628,  158,  486,  ..., 2820, 1643,   33]], device='cuda:0')"
            ]
          },
          "metadata": {},
          "execution_count": 31
        }
      ],
      "source": [
        "# Check the structure of edge_index\n",
        "data.edge_index"
      ]
    },
    {
      "cell_type": "markdown",
      "metadata": {
        "id": "ic4FlRN36Bux"
      },
      "source": [
        "Why would we want to order in this manner? Give at least one advantage. [0.1 points]"
      ]
    },
    {
      "cell_type": "markdown",
      "metadata": {
        "id": "Wzjq1yoE6D9h"
      },
      "source": [
        "> Answer (write answer in this cell)"
      ]
    },
    {
      "cell_type": "markdown",
      "metadata": {
        "id": "8nlOrD6EyWVm"
      },
      "source": [
        "Since the edge_index is ordered, picking the first $60\\%$ of the links for training would not be ideal. Hence, let us pick a random order first and then split the links into training, validation, and test. "
      ]
    },
    {
      "cell_type": "markdown",
      "metadata": {
        "id": "UCS6Hlh5bAfQ"
      },
      "source": [
        "**Creating train/val/test split**"
      ]
    },
    {
      "cell_type": "code",
      "execution_count": 32,
      "metadata": {
        "id": "IwOvWAZ1ymXX"
      },
      "outputs": [],
      "source": [
        "torch.manual_seed(42)\n",
        "train_p, val_p, test_p = 0.6, 0.1, 0.3\n",
        "# Step 1: Find a random permutation order of the links using torch.randperm\n",
        "num_edges = data.edge_index.shape[1]\n",
        "# rand_perm = torch.randperm(n=num_edges)\n",
        "t = data.edge_index\n",
        "edges_rand = t[:, torch.randperm(t.shape[1])]\n",
        "\n",
        "# Step 2: Assign the first 60% (rounded down) of the links as the training set (data.train_mask), next 10% (rounded down) as the validation (data.val_mask), \n",
        "#         and the remaining as the test (data.test_mask). \n",
        "data.train_mask = edges_rand[0:2, 0:int(num_edges*.6)]\n",
        "data.val_mask = edges_rand[0:2, range(int(num_edges*.6), int(num_edges*.7))]\n",
        "data.test_mask = edges_rand[0:2, range(int(num_edges*.7), num_edges)]\n",
        "\n",
        "# Step 3: Create new variables data.train_y, data.val_y, data.test_y storing all ones vector corresponding to the number of links in the corresponding set.\n",
        "#         Make sure to put them on the memory of the `device` (default will be cpu but we want everything to be on GPU). \n",
        "## write your code below [0.5 points] ## \n",
        "data.train_y = torch.ones(data.train_mask.shape[1], dtype=torch.bool).to(device)\n",
        "data.val_y = torch.ones(data.val_mask.shape[1], dtype=torch.bool).to(device)\n",
        "data.test_y = torch.ones(data.test_mask.shape[1], dtype=torch.bool).to(device)\n",
        "#########################################"
      ]
    },
    {
      "cell_type": "code",
      "execution_count": 33,
      "metadata": {
        "id": "-Qo2_uTI7BB6",
        "colab": {
          "base_uri": "https://localhost:8080/",
          "height": 0
        },
        "outputId": "85cfd675-8e9c-4b14-f54e-ec818380f48c"
      },
      "outputs": [
        {
          "output_type": "stream",
          "name": "stdout",
          "text": [
            "True\n",
            "True\n",
            "True\n"
          ]
        }
      ],
      "source": [
        "print ((data.train_mask.shape[1] == data.train_y.shape[0]) and (data.train_y.shape[0] == 5462))\n",
        "print ((data.val_mask.shape[1] == data.val_y.shape[0]) and (data.val_y.shape[0] == 910))\n",
        "print ((data.test_mask.shape[1] == data.test_y.shape[0]) and (data.test_y.shape[0] == 2732))\n"
      ]
    },
    {
      "cell_type": "markdown",
      "metadata": {
        "id": "ojlzIp6K1hnn"
      },
      "source": [
        "Next, let us sample some negative links so that we can train. "
      ]
    },
    {
      "cell_type": "code",
      "execution_count": 34,
      "metadata": {
        "id": "xcVQtLg21OxO"
      },
      "outputs": [],
      "source": [
        "import random\n",
        "torch.manual_seed(42)\n",
        "random.seed(42)\n",
        "negative_sampling_rate = 1\n",
        "\n",
        "# Step 1: Use torch_geometric.utils.negative_sampling to obtain `negative_sampling_rate` number of negative samples for each positive link in `data.edge_index`.\n",
        "#         Carefully read the documentation and check which arguments you would need to pass and how. \n",
        "nsr = torch_geometric.utils.negative_sampling(edge_index=data.edge_index, num_nodes=data.x.shape[0], num_neg_samples = data.edge_index.shape[1])\n",
        "\n",
        "# Step 2: Append the first 60% (roudned down) of the non-existing links to the training set (data.train_mask), next 10% (rounded down) to the validation (data.val_mask), \n",
        "#         and the remaining to the test (data.test_mask). Use torch.cat with the correct dimension.\n",
        "data.train_mask = torch.cat((data.train_mask, nsr[0:2, 0:int(num_edges*.6)]), 1)\n",
        "data.val_mask = torch.cat((data.val_mask, nsr[0:2, range(int(num_edges*.6), int(num_edges*.7))]), 1)\n",
        "data.test_mask = torch.cat((data.test_mask, nsr[0:2, range(int(num_edges*.7), num_edges)]), 1)\n",
        "\n",
        "# Step 3: Append an all zeros vector to data.train_y, data.val_y, data.test_y corresponding to the number of links newly added to the corresponding set.\n",
        "#         Make sure to match the `device` of the tensor. Use torch.cat with the correct dimension.\n",
        "## write your code below [0.6 points] ## \n",
        "train_new = torch.zeros(data.train_mask.shape[1] - int(num_edges*.6), device=device, dtype=torch.bool)\n",
        "val_new = torch.zeros(data.val_mask.shape[1] - int(num_edges*.1), device=device, dtype=torch.bool)\n",
        "test_new = torch.zeros(data.test_mask.shape[1] - int(num_edges*.3) -1, device=device, dtype=torch.bool)\n",
        "\n",
        "data.train_y = torch.cat((data.train_y, train_new), 0).to(device)\n",
        "data.val_y = torch.cat((data.val_y, val_new), 0).to(device)\n",
        "data.test_y = torch.cat((data.test_y, test_new), 0).to(device)\n",
        "\n",
        "#########################################"
      ]
    },
    {
      "cell_type": "code",
      "execution_count": 35,
      "metadata": {
        "id": "8-gEcuMG7MyG",
        "colab": {
          "base_uri": "https://localhost:8080/",
          "height": 0
        },
        "outputId": "8aec4d62-95f7-4114-93df-f6c2d612a970"
      },
      "outputs": [
        {
          "output_type": "stream",
          "name": "stdout",
          "text": [
            "True\n",
            "True\n",
            "True\n"
          ]
        }
      ],
      "source": [
        "num_edges = data.edge_index.shape[1]\n",
        "print ((data.train_mask.shape[1] == data.train_y.shape[0]) and (data.train_y.shape[0] == int(train_p*num_edges)*(negative_sampling_rate+1)))\n",
        "print ((data.val_mask.shape[1] == data.val_y.shape[0]) and (data.val_y.shape[0] == int(val_p*num_edges)*(negative_sampling_rate+1)))\n",
        "print ((data.test_mask.shape[1] == data.test_y.shape[0]) and (data.test_y.shape[0] == (num_edges - int((train_p + val_p)*num_edges))*(negative_sampling_rate+1)))"
      ]
    },
    {
      "cell_type": "code",
      "execution_count": 36,
      "metadata": {
        "id": "08IynqsCTKhf",
        "colab": {
          "base_uri": "https://localhost:8080/",
          "height": 0
        },
        "outputId": "98fea1da-3d5f-4c06-ae9c-1f9fa268a42f"
      },
      "outputs": [
        {
          "output_type": "execute_result",
          "data": {
            "text/plain": [
              "(10924, 1820, 5464)"
            ]
          },
          "metadata": {},
          "execution_count": 36
        }
      ],
      "source": [
        "data.train_y.shape[0], data.val_y.shape[0], data.test_y.shape[0]"
      ]
    },
    {
      "cell_type": "markdown",
      "metadata": {
        "id": "BK95jL5K8z28"
      },
      "source": [
        "## Section 2.2: General Link Prediction Model [2.0 points]"
      ]
    },
    {
      "cell_type": "markdown",
      "metadata": {
        "id": "T_FdQfsM9DnT"
      },
      "source": [
        "What would be the corresponding memorization model if one were to make? We cannot learn a probability weight for each link (since it would be extremely memory inefficient, would give a memory overflow in fact). So, one simple model would be to learn an embedding for each node and then, pass a concatenation of the embeddings of two nodes through an MLP decoder to find the probability of a link between these two nodes. "
      ]
    },
    {
      "cell_type": "markdown",
      "metadata": {
        "id": "YrWLE_s7Ti49"
      },
      "source": [
        "### Model Definition [0.9 points]"
      ]
    },
    {
      "cell_type": "code",
      "execution_count": 37,
      "metadata": {
        "id": "NizFQuuu8h89"
      },
      "outputs": [],
      "source": [
        "from numpy import log10\n",
        "import torch\n",
        "import torch.nn.functional as F\n",
        "from torch.nn import Linear\n",
        "\n",
        "class LPModel (torch.nn.Module):\n",
        "    def __init__(self, dataset, hidden_channels=16):\n",
        "        super().__init__()\n",
        "        self.emb = torch.nn.Parameter(torch.rand(dataset[0].num_nodes, hidden_channels).to(device))\n",
        "        self.dec = None\n",
        "        # Define the decoder (self.dec) as a single Linear layer that transforms an input of dimension 2*hidden_channels to an output of dimension 1. \n",
        "        ## write your code below [0.1 points] ##\n",
        "        self.dec =  Linear(2*hidden_channels, 1)\n",
        "        #########################################\n",
        "    \n",
        "    def forward (self, data):\n",
        "        # Returns the embeddings of all nodes\n",
        "        return self.emb\n",
        "\n",
        "    def predict_proba (self, data, node_pairs):\n",
        "        prob = None\n",
        "        # Predict probabilities of link existence between the node_pairs (of dimension (num_node_pairs, 2))\n",
        "        ## write your code below [0.6 points] ##\n",
        "        \n",
        "        # Step 1: Call the forward function to obtain the embeddings from the data.\n",
        "        emb = self.forward(data)\n",
        "        # Step 2: Obtain the node embeddings for source and destination nodes from the node_pairs array and concatenate them together. \n",
        "        all_embs = []\n",
        "        logits = torch.zeros(node_pairs.shape[1])\n",
        "        ## node_pairs.shape = (2, 10924)\n",
        "        for j in range(node_pairs.shape[1]):\n",
        "          source_emb = emb[node_pairs[0, j]]\n",
        "          dest_emb = emb[node_pairs[1, j]]\n",
        "          node_emb_sd = torch.stack((source_emb, dest_emb), 1)\n",
        "          all_embs.append(node_emb_sd)\n",
        "\n",
        "          # Step 3: Pass the concatenated embeddings (of size 2*hidden_channels) through the decoder to obtain the logits for each node pair in node_pairs. \n",
        "          log = self.dec(torch.reshape(node_emb_sd, (1,2*hidden_channels)))\n",
        "          logits[j] = log\n",
        "\n",
        "        # Step 4: Use sigmoid activation torch.sigmoid() to obtain the probabilities between 0 and 1.\n",
        "        logits = logits.sigmoid()\n",
        "\n",
        "        # Step 5: Squeeze the values so that the output is (num_node_pairs,)\n",
        "        prob = torch.squeeze(logits).to(device)\n",
        "        #########################################\n",
        "        return prob\n",
        "\n",
        "    def predict (self, data, node_pairs):\n",
        "        pred = None\n",
        "        # Step 1: Predict the probabilities of link existence between the node_pairs using the predict_proba method\n",
        "        # Step 2: Obtain the predicted label as 1 if probability is greater than 0.5 and 0 otherwise.\n",
        "        ### write your code below [0.2 points] ##\n",
        "        prob = self.predict_proba(data, node_pairs)\n",
        "        pred = [1.0 if i > 0.1 else 0 for i in prob]\n",
        "        \n",
        "        #########################################\n",
        "        return pred"
      ]
    },
    {
      "cell_type": "code",
      "source": [
        "mem_model = LPModel (dataset).to(device)"
      ],
      "metadata": {
        "id": "Q6mGclp5tTpo"
      },
      "execution_count": 38,
      "outputs": []
    },
    {
      "cell_type": "markdown",
      "metadata": {
        "id": "_5Pi_3Hw8h8-"
      },
      "source": [
        "### Training [1.1 points]"
      ]
    },
    {
      "cell_type": "markdown",
      "metadata": {
        "id": "IuMhj_R68h8_"
      },
      "source": [
        "**Setup** [0.1 points]"
      ]
    },
    {
      "cell_type": "code",
      "execution_count": 39,
      "metadata": {
        "id": "cTOi7vOB8h8_"
      },
      "outputs": [],
      "source": [
        "criterion = None\n",
        "\n",
        "### write your code below [0.1 points] ##\n",
        "# Initialize loss criterion as the binary cross entropy loss function\n",
        "criterion = torch.nn.BCELoss()\n",
        "#########################################"
      ]
    },
    {
      "cell_type": "markdown",
      "metadata": {
        "id": "Mg79FH-P8wBm"
      },
      "source": [
        "**Backpropagation** [0.5 points]"
      ]
    },
    {
      "cell_type": "code",
      "execution_count": 40,
      "metadata": {
        "id": "aq2O_G8J8vEG"
      },
      "outputs": [],
      "source": [
        "# Gradient Descent training algorithm. We will use this function for MLP and GCN too.\n",
        "def train_lp (model, data, criterion, optimizer, neg_weight=1):\n",
        "    model.train()\n",
        "    train_pos_loss, train_neg_loss = None, None\n",
        "    \n",
        "    # Step 1: Extract the link existence probability of only the positive (i.e., existing) training links using predict_proba \n",
        "    #          (you can use data.train_mask to obtain the positive training links and data.train_y to filter). \n",
        "    # Step 2: Compute the criterion loss between predicted probabilities and the actual labels of the positive \n",
        "    #           training links and store it in train_pos_loss\n",
        "    # Step 3: Similarly, extract the link existence probability of only the negative (i.e., non-existing) training links using predict_proba \n",
        "    #          (you can use data.train_mask to obtain the negative training links and data.train_y to filter). \n",
        "    # Step 4: Compute the criterion loss between predicted probabilities and the actual labels of the negative \n",
        "    #           training links and store it in train_neg_loss\n",
        "    # Step 5: Compute the gradients of the training loss (train_pos_loss + neg_weight*train_neg_loss) with respect to each parameter using the backward() call.\n",
        "    # Step 6: Update the model parameters using the optimizer step() call.\n",
        "    # Make sure to return a detached cpu tensor\n",
        "    ### write your code below [0.5 points] ##\n",
        "    \n",
        "    lep_pos_train = model.predict_proba(data, data.train_mask)[data.train_y]\n",
        "    train_pos_loss = criterion(lep_pos_train, torch.ones(lep_pos_train.shape, device=device))\n",
        "    grad_pos_loss = train_pos_loss.backward()\n",
        "\n",
        "    lep_neg_train = model.predict_proba(data, data.train_mask)[~data.train_y]\n",
        "    train_neg_loss = criterion(lep_neg_train, torch.zeros(lep_neg_train.shape, device=device))\n",
        "    grad_neg_loss = train_neg_loss.backward()\n",
        "\n",
        "    optimizer.step()\n",
        "\n",
        "    #########################################\n",
        "    return train_pos_loss.detach().cpu(), train_neg_loss.detach().cpu()"
      ]
    },
    {
      "cell_type": "markdown",
      "metadata": {
        "id": "440QSoTr8vEH"
      },
      "source": [
        "**Validation** [0.3 points]"
      ]
    },
    {
      "cell_type": "code",
      "execution_count": 41,
      "metadata": {
        "id": "IbBjYE1K8vEI"
      },
      "outputs": [],
      "source": [
        "# Validate the model on a held-out validataion dataset. We will reuse this function for GCN too.\n",
        "def validate_lp (model, data, criterion, neg_weight=1):\n",
        "    model.eval()\n",
        "    val_loss = None\n",
        "    with torch.no_grad():\n",
        "        # Step 1: Extract the link existence probability of only the positive (i.e., existing) links in the validation set using predict_proba \n",
        "        #          (you can use data.train_mask to obtain the positive training links and data.train_y to filter).\n",
        "        # Step 2: Compute the criterion loss between predicted probabilities and the actual labels of the positive links in the validation set\n",
        "        #          and store it in val_pos_loss\n",
        "        # Step 3: Extract the link existence probability of only the negative (i.e., existing) links in the validation set using predict_proba \n",
        "        #          (you can use data.train_mask to obtain the negative training links and data.train_y to filter).\n",
        "        # Step 4: Compute the criterion loss between predicted probabilities and the actual labels of the negative links in the validation set\n",
        "        #          and store it in val_neg_loss\n",
        "        # Step 5: Find val_loss as val_pos_loss + neg_weight * val_neg_loss.\n",
        "        # Make sure to return a CPU tensor.\n",
        "        ### write your code below [0.3 points] ##\n",
        "\n",
        "        lep_pos_val = model.predict_proba(data, data.val_mask)[data.val_y]\n",
        "        val_pos_loss = criterion(lep_pos_val, torch.ones(lep_pos_val.shape, device=device))\n",
        "\n",
        "        lep_neg_val = model.predict_proba(data, data.val_mask)[~data.val_y]\n",
        "        val_neg_loss = criterion(lep_neg_val, torch.zeros(lep_neg_val.shape, device=device))\n",
        "\n",
        "        val_loss = val_pos_loss + neg_weight * val_neg_loss\n",
        "        \n",
        "        #########################################\n",
        "    return val_loss.cpu()"
      ]
    },
    {
      "cell_type": "markdown",
      "metadata": {
        "id": "J9SDFjatHe31"
      },
      "source": [
        "**Training loop**"
      ]
    },
    {
      "cell_type": "code",
      "execution_count": 42,
      "metadata": {
        "id": "Pc7xbABwHe4B",
        "colab": {
          "base_uri": "https://localhost:8080/",
          "height": 0
        },
        "outputId": "579f0b7a-2b43-4c2f-cbf6-e2efc052403f"
      },
      "outputs": [
        {
          "output_type": "stream",
          "name": "stdout",
          "text": [
            "Epoch: 010, Training Loss: 1.4375 Validation Loss: 1.4365\n",
            "Epoch: 020, Training Loss: 1.4319 Validation Loss: 1.4304\n",
            "Epoch: 030, Training Loss: 1.4234 Validation Loss: 1.4216\n",
            "Epoch: 040, Training Loss: 1.4136 Validation Loss: 1.4114\n",
            "Epoch: 050, Training Loss: 1.4041 Validation Loss: 1.4018\n",
            "Epoch: 060, Training Loss: 1.3967 Validation Loss: 1.3943\n",
            "Epoch: 070, Training Loss: 1.3926 Validation Loss: 1.3902\n",
            "Epoch: 080, Training Loss: 1.3926 Validation Loss: 1.3903\n",
            "Epoch: 090, Training Loss: 1.3966 Validation Loss: 1.3945\n",
            "Epoch: 100, Training Loss: 1.4040 Validation Loss: 1.4020\n",
            "Epoch: 110, Training Loss: 1.4134 Validation Loss: 1.4113\n",
            "Epoch: 120, Training Loss: 1.4230 Validation Loss: 1.4208\n",
            "Epoch: 130, Training Loss: 1.4313 Validation Loss: 1.4287\n",
            "Epoch: 140, Training Loss: 1.4366 Validation Loss: 1.4337\n",
            "Epoch: 150, Training Loss: 1.4382 Validation Loss: 1.4349\n",
            "Epoch: 160, Training Loss: 1.4356 Validation Loss: 1.4320\n",
            "Epoch: 170, Training Loss: 1.4294 Validation Loss: 1.4256\n",
            "Epoch: 180, Training Loss: 1.4205 Validation Loss: 1.4166\n",
            "Epoch: 190, Training Loss: 1.4105 Validation Loss: 1.4068\n",
            "Epoch: 200, Training Loss: 1.4011 Validation Loss: 1.3978\n"
          ]
        }
      ],
      "source": [
        "# Let us train this model.\n",
        "torch.manual_seed(42)\n",
        "\n",
        "# Hyperparameters of the model. DO NOT CHANGE.\n",
        "num_epochs = 200 # Number of epochs\n",
        "lr = 0.0001 # learning rate, also called step size sometimes\n",
        "wd = 1e-4 # Weight decay, regularization parameter (ensures that we don't overfit to the training data)\n",
        "\n",
        "optimizer = optimizer_fn (mem_model, lr, wd)\n",
        "\n",
        "training_loss = []\n",
        "validation_loss = []\n",
        "#data = data.to('cuda:0', non_blocking=True)\n",
        "for epoch in range(1, num_epochs+1):\n",
        "    train_loss = train_lp (mem_model, data, criterion, optimizer)\n",
        "    val_loss = validate_lp (mem_model, data, criterion)\n",
        "    training_loss.append(train_loss)\n",
        "    validation_loss.append(val_loss)\n",
        "    train_loss = sum(train_loss)\n",
        "    # Print loss values every 10 epochs\n",
        "    if epoch%10 == 0:\n",
        "      print(f'Epoch: {epoch:03d}, Training Loss: {train_loss:.4f} Validation Loss: {val_loss:.4f}')"
      ]
    },
    {
      "cell_type": "markdown",
      "metadata": {
        "id": "faT1ulqKHe4C"
      },
      "source": [
        "**Plotting the loss curves**"
      ]
    },
    {
      "cell_type": "code",
      "execution_count": 43,
      "metadata": {
        "id": "quZh4fIPHe4C",
        "colab": {
          "base_uri": "https://localhost:8080/",
          "height": 281
        },
        "outputId": "25e4479a-ea79-4892-f1b0-c34b63bd5f12"
      },
      "outputs": [
        {
          "output_type": "display_data",
          "data": {
            "text/plain": [
              "<Figure size 432x288 with 1 Axes>"
            ],
            "image/png": "[encoded data removed]"
          },
          "metadata": {
            "needs_background": "light"
          }
        }
      ],
      "source": [
        "import matplotlib.pyplot as plt\n",
        "%matplotlib inline\n",
        "\n",
        "plt.plot(range(len(training_loss)), [x[0] + x[1] for x in training_loss], color='green', label='train loss')\n",
        "plt.plot(range(len(validation_loss)), validation_loss, color='red', label='val loss')\n",
        "plt.legend()\n",
        "plt.title(\"Train & Val loss plot\")\n",
        "plt.show()"
      ]
    },
    {
      "cell_type": "code",
      "execution_count": 44,
      "metadata": {
        "id": "dmhg9zF2KmDS",
        "colab": {
          "base_uri": "https://localhost:8080/",
          "height": 281
        },
        "outputId": "539a8555-8e37-4821-a393-234fe0c50c68"
      },
      "outputs": [
        {
          "output_type": "display_data",
          "data": {
            "text/plain": [
              "<Figure size 432x288 with 1 Axes>"
            ],
            "image/png": "[encoded data removed]"
          },
          "metadata": {
            "needs_background": "light"
          }
        }
      ],
      "source": [
        "plt.plot(range(len(training_loss)), [x[0] for x in training_loss], color='blue', label='train loss pos')\n",
        "plt.plot(range(len(training_loss)), [x[1] for x in training_loss], color='pink', label='train loss neg')\n",
        "plt.legend()\n",
        "plt.title(\"Train loss plot\")\n",
        "plt.show()"
      ]
    },
    {
      "cell_type": "markdown",
      "metadata": {
        "id": "SGBMdLfgczd5"
      },
      "source": [
        "**Evaluation** [0.2 points]\n",
        "\n",
        "We will evaluate the model using the AUC metric. For that let us first create a function to obtain the AUC values. "
      ]
    },
    {
      "cell_type": "code",
      "execution_count": 45,
      "metadata": {
        "id": "bwwwEP03dGSy"
      },
      "outputs": [],
      "source": [
        "from sklearn.metrics import roc_auc_score\n",
        "def evaluate_auc (model, data, eval_nodepairs, eval_labels):\n",
        "    auc = None\n",
        "    # Step 1: Obtain link existence probabilities for the node pairs in eval_nodepairs. \n",
        "    # Step 2: Calculate the roc_auc_score using predicted probabilities and actual labels. \n",
        "    # Step 3: Return the calculated roc_auc_score.\n",
        "    # Make sure to convert to CPU tensors. \n",
        "    ## write your code below (0.2 points) ##\n",
        "    \n",
        "    lep =  model.predict_proba(data, eval_nodepairs)\n",
        "    auc = roc_auc_score(eval_labels.detach().cpu().numpy(), lep.detach().cpu().numpy())\n",
        "\n",
        "    #########################################\n",
        "    return auc"
      ]
    },
    {
      "cell_type": "code",
      "execution_count": 46,
      "metadata": {
        "id": "iBf8-BjFJpSd",
        "colab": {
          "base_uri": "https://localhost:8080/",
          "height": 0
        },
        "outputId": "a5aa301a-5799-478e-9e5b-507847ee0c83"
      },
      "outputs": [
        {
          "output_type": "stream",
          "name": "stdout",
          "text": [
            "Train AUC: 0.4999, Val AUC: 0.5085, Test AUC: 0.4822\n",
            "Sanity check for Test AUC: True\n"
          ]
        }
      ],
      "source": [
        "mem_model.eval()\n",
        "with torch.no_grad():\n",
        "    train_auc = evaluate_auc(mem_model, data, data.train_mask, data.train_y)\n",
        "    val_auc = evaluate_auc(mem_model, data, data.val_mask, data.val_y)\n",
        "    test_auc = evaluate_auc(mem_model, data, data.test_mask, data.test_y)\n",
        "    print (f'Train AUC: {train_auc:0.4f}, Val AUC: {val_auc:0.4f}, Test AUC: {test_auc:0.4f}')\n",
        "    print (f'Sanity check for Test AUC: {abs(test_auc - 0.5) <= 5e-2}')"
      ]
    },
    {
      "cell_type": "markdown",
      "metadata": {
        "id": "dAtSFe_a7tP2"
      },
      "source": [
        "## Section 2.3: MLP for link prediction [0.3 points]\n",
        "\n",
        "Let us now use the input data a little more carefully. In particular, let us make use of the input node attributes to learn the node labels using a two layer perceptron."
      ]
    },
    {
      "cell_type": "markdown",
      "metadata": {
        "id": "sXbwAkx57tP2"
      },
      "source": [
        "**Model Definition** [0.3 points]\n",
        "\n",
        "Implement a two layer MLP with hidden dimension size as 16 and train the model on the dataset. We want to use ReLU activation and dropout with p = 0.2"
      ]
    },
    {
      "cell_type": "code",
      "execution_count": 47,
      "metadata": {
        "id": "JDrQ719Z7tP2"
      },
      "outputs": [],
      "source": [
        "import torch\n",
        "from torch.nn import Linear\n",
        "import torch.nn.functional as F\n",
        "\n",
        "# This is similar to the above MLP definition.\n",
        "class MLP (LPModel):\n",
        "    def __init__(self, dataset, hidden_channels=32, dropout_probability=0.5):\n",
        "        super(MLP, self).__init__(dataset, hidden_channels)\n",
        "        \"\"\"\n",
        "        Use the constructor to initialize the layers of the network. In this case 2 linear layers\n",
        "        Read more about Linear layers in PyTorch here: https://pytorch.org/docs/stable/generated/torch.nn.Linear.html#linear\n",
        "        \"\"\"\n",
        "\n",
        "        self.lin1 = None \n",
        "        self.lin2 = None\n",
        "        self.dropout_p = dropout_probability\n",
        "\n",
        "        # Step 1: The first linear layer (self.lin1) should convert the input features to hidden dimension size which will then be fed into self.lin2\n",
        "        # Step 2: The second linear layer (self.lin2) should convert the output of self.lin1 to the hidden dimension to obtain the embedding\n",
        "\n",
        "        ### write your code below [0.1 points] ##\n",
        "        self.lin1 = Linear(dataset.num_features, hidden_channels)\n",
        "        self.lin2 = Linear(hidden_channels, hidden_channels)\n",
        "        #########################################\n",
        "\n",
        "\n",
        "    def forward(self, data):\n",
        "        # overriding the random model\n",
        "        out = None\n",
        "        # Step 1. Extract node features and target labels from data\n",
        "        # Step 2. Call the first linear layer (self.lin1)\n",
        "        # Step 3. The output of the linear layer should be passed through a ReLU non-linearity\n",
        "        # Step 4. Apply dropout with dropout probability p as self.dropout_p \n",
        "        # Step 5: Apply the second linear layer to get the embeddings\n",
        "        ### write your code below [0.2 points] ##\n",
        "\n",
        "        data = dataset[0].to(device)\n",
        "        features = data.x\n",
        "        labels = data.y\n",
        "\n",
        "        features = self.lin1(features)\n",
        "        features = features.relu()\n",
        "        features = F.dropout(features, p=self.dropout_p, training=self.training)\n",
        "\n",
        "        out = self.lin2(features)\n",
        "\n",
        "        #########################################\n",
        "        return out"
      ]
    },
    {
      "cell_type": "code",
      "execution_count": 48,
      "metadata": {
        "id": "I9cbUH977tP2",
        "colab": {
          "base_uri": "https://localhost:8080/",
          "height": 0
        },
        "outputId": "b2aec250-de18-4a4a-9f6c-9a3961312bd3"
      },
      "outputs": [
        {
          "output_type": "stream",
          "name": "stdout",
          "text": [
            "MLP(\n",
            "  (dec): Linear(in_features=32, out_features=1, bias=True)\n",
            "  (lin1): Linear(in_features=3703, out_features=16, bias=True)\n",
            "  (lin2): Linear(in_features=16, out_features=16, bias=True)\n",
            ")\n"
          ]
        }
      ],
      "source": [
        "hidden_channels=16\n",
        "dropout_probability=0.2\n",
        "\n",
        "mlp_model = MLP(dataset, hidden_channels=hidden_channels, dropout_probability=dropout_probability).to(device)\n",
        "\n",
        "## Print the model and double check that you have implemented the correct 2-layer MLP\n",
        "print(mlp_model)"
      ]
    },
    {
      "cell_type": "markdown",
      "metadata": {
        "id": "c9oXVWpwLu34"
      },
      "source": [
        "**Training loop**"
      ]
    },
    {
      "cell_type": "code",
      "execution_count": 49,
      "metadata": {
        "id": "d-aQyXacLu4B",
        "colab": {
          "base_uri": "https://localhost:8080/",
          "height": 0
        },
        "outputId": "da4df09b-aa2d-4a9b-cfcb-39f0b139c6ad"
      },
      "outputs": [
        {
          "output_type": "stream",
          "name": "stdout",
          "text": [
            "Epoch: 010, Training Loss: 1.3870 Validation Loss: 1.3869\n",
            "Epoch: 020, Training Loss: 1.3869 Validation Loss: 1.3867\n",
            "Epoch: 030, Training Loss: 1.3864 Validation Loss: 1.3864\n",
            "Epoch: 040, Training Loss: 1.3863 Validation Loss: 1.3862\n",
            "Epoch: 050, Training Loss: 1.3859 Validation Loss: 1.3860\n",
            "Epoch: 060, Training Loss: 1.3858 Validation Loss: 1.3859\n",
            "Epoch: 070, Training Loss: 1.3857 Validation Loss: 1.3859\n",
            "Epoch: 080, Training Loss: 1.3857 Validation Loss: 1.3859\n",
            "Epoch: 090, Training Loss: 1.3852 Validation Loss: 1.3858\n",
            "Epoch: 100, Training Loss: 1.3852 Validation Loss: 1.3855\n",
            "Epoch: 110, Training Loss: 1.3845 Validation Loss: 1.3851\n",
            "Epoch: 120, Training Loss: 1.3834 Validation Loss: 1.3845\n",
            "Epoch: 130, Training Loss: 1.3825 Validation Loss: 1.3838\n",
            "Epoch: 140, Training Loss: 1.3819 Validation Loss: 1.3831\n",
            "Epoch: 150, Training Loss: 1.3810 Validation Loss: 1.3825\n",
            "Epoch: 160, Training Loss: 1.3795 Validation Loss: 1.3818\n",
            "Epoch: 170, Training Loss: 1.3786 Validation Loss: 1.3810\n",
            "Epoch: 180, Training Loss: 1.3774 Validation Loss: 1.3800\n",
            "Epoch: 190, Training Loss: 1.3763 Validation Loss: 1.3787\n",
            "Epoch: 200, Training Loss: 1.3744 Validation Loss: 1.3769\n"
          ]
        }
      ],
      "source": [
        "# Let us train this model.\n",
        "torch.manual_seed(42)\n",
        "\n",
        "# Hyperparameters of the model. DO NOT CHANGE.\n",
        "num_epochs = 200 # Number of epochs\n",
        "lr = 0.001 # learning rate, also called step size sometimes\n",
        "wd = 1e-4 # Weight decay, regularization parameter (ensures that we don't overfit to the training data)\n",
        "\n",
        "optimizer = optimizer_fn (mlp_model, lr, wd)\n",
        "\n",
        "training_loss = []\n",
        "validation_loss = []\n",
        "\n",
        "for epoch in range(1, num_epochs+1):\n",
        "    train_loss = train_lp (mlp_model, data, criterion, optimizer)\n",
        "    val_loss = validate_lp (mlp_model, data, criterion)\n",
        "    training_loss.append(train_loss)\n",
        "    validation_loss.append(val_loss)\n",
        "    train_loss = sum(train_loss)\n",
        "    # Print loss values every 10 epochs\n",
        "    if epoch%10 == 0:\n",
        "      print(f'Epoch: {epoch:03d}, Training Loss: {train_loss:.4f} Validation Loss: {val_loss:.4f}')"
      ]
    },
    {
      "cell_type": "markdown",
      "metadata": {
        "id": "FGFVDurBLu4B"
      },
      "source": [
        "**Plotting the loss curves**"
      ]
    },
    {
      "cell_type": "code",
      "execution_count": 50,
      "metadata": {
        "id": "Odl_Wr7sLu4C",
        "colab": {
          "base_uri": "https://localhost:8080/",
          "height": 281
        },
        "outputId": "298040c0-7cdd-4ff3-f519-25d129df4177"
      },
      "outputs": [
        {
          "output_type": "display_data",
          "data": {
            "text/plain": [
              "<Figure size 432x288 with 1 Axes>"
            ],
            "image/png": "[encoded data removed]"
          },
          "metadata": {
            "needs_background": "light"
          }
        }
      ],
      "source": [
        "import matplotlib.pyplot as plt\n",
        "%matplotlib inline\n",
        "\n",
        "plt.plot(range(len(training_loss)), [x[0] + x[1] for x in training_loss], color='green', label='train loss')\n",
        "plt.plot(range(len(validation_loss)), validation_loss, color='red', label='val loss')\n",
        "plt.legend()\n",
        "plt.title(\"Train & Val loss plot\")\n",
        "plt.show()"
      ]
    },
    {
      "cell_type": "code",
      "execution_count": 51,
      "metadata": {
        "id": "qytP8ImiKW8s",
        "colab": {
          "base_uri": "https://localhost:8080/",
          "height": 281
        },
        "outputId": "4feb5f50-bcb5-46ab-85bd-5e0bdd072d07"
      },
      "outputs": [
        {
          "output_type": "display_data",
          "data": {
            "text/plain": [
              "<Figure size 432x288 with 1 Axes>"
            ],
            "image/png": "[encoded data removed]"
          },
          "metadata": {
            "needs_background": "light"
          }
        }
      ],
      "source": [
        "\n",
        "plt.plot(range(len(training_loss)), [x[0] for x in training_loss], color='blue', label='train loss pos')\n",
        "plt.plot(range(len(training_loss)), [x[1] for x in training_loss], color='pink', label='train loss neg')\n",
        "plt.legend()\n",
        "plt.title(\"Train loss plot\")\n",
        "plt.show()"
      ]
    },
    {
      "cell_type": "markdown",
      "metadata": {
        "id": "QhWurP_FetuL"
      },
      "source": [
        "**Evaluation**"
      ]
    },
    {
      "cell_type": "code",
      "execution_count": 52,
      "metadata": {
        "id": "eTasf-pfLu4C",
        "colab": {
          "base_uri": "https://localhost:8080/",
          "height": 0
        },
        "outputId": "fd0d23fa-2fdd-4eff-919f-39fa12c66b7a"
      },
      "outputs": [
        {
          "output_type": "stream",
          "name": "stdout",
          "text": [
            "Train AUC: 0.6274, Val AUC: 0.5721, Test AUC: 0.5723\n",
            "Sanity check for Test AUC: True\n"
          ]
        }
      ],
      "source": [
        "mlp_model.eval()\n",
        "with torch.no_grad():\n",
        "    train_auc = evaluate_auc(mlp_model, data, data.train_mask, data.train_y)\n",
        "    val_auc = evaluate_auc(mlp_model, data, data.val_mask, data.val_y)\n",
        "    test_auc = evaluate_auc(mlp_model, data, data.test_mask, data.test_y)\n",
        "    print (f'Train AUC: {train_auc:0.4f}, Val AUC: {val_auc:0.4f}, Test AUC: {test_auc:0.4f}')\n",
        "    print (f'Sanity check for Test AUC: {test_auc >= 0.55}')"
      ]
    },
    {
      "cell_type": "markdown",
      "metadata": {
        "id": "KXhVHCjx7tP3"
      },
      "source": [
        "## Section 2.4: GCN for link prediction [0.3 points]\n",
        "\n",
        "The dataset has more information. In particular, we have the graph structure that relates a pair of nodes. Note that this is a semi-supervised setting so the nodes in the evaluation and test phase are also available during training. How to exploit the graph to learn the correlated probabilites of these nodes? "
      ]
    },
    {
      "cell_type": "markdown",
      "metadata": {
        "id": "-R0KHmTl7tP3"
      },
      "source": [
        "**Model Definition**\n",
        "\n",
        "Implement a 2 layer GCN using methods from Pytorch Geometric.\n",
        "\n",
        "\n",
        "\n"
      ]
    },
    {
      "cell_type": "code",
      "execution_count": 53,
      "metadata": {
        "id": "Xa7Dl8-U7tP3"
      },
      "outputs": [],
      "source": [
        "from prompt_toolkit import output\n",
        "import torch.nn as nn\n",
        "import torch.nn.functional as F\n",
        "\n",
        "# Note: You will be using the GCNConv to implement a graph convolution layer\n",
        "from torch_geometric.nn import GCNConv \n",
        "\n",
        "# Implement a GCN model with 2 GCNConv layers with ReLU non-linearity and dropout\n",
        "\n",
        "# This is similar to the above GCN definition.\n",
        "class GCN(LPModel):\n",
        "    def __init__(self, dataset, hidden_channels, dropout_probability):\n",
        "        super(GCN, self).__init__(dataset, hidden_channels)\n",
        "        self.dataset = dataset\n",
        "        self.conv1 = None\n",
        "        self.conv2 = None\n",
        "        self.dropout_p = dropout_probability\n",
        "\n",
        "        # Implement a GCN model with 2 GCNConv layers with ReLU non-linearity and dropout\n",
        "        # Step 1: Define the first convolutional layer (self.conv1) with input as the node features and output = hidden dimension size\n",
        "        # Step 2: Define the second convolution layer (self.conv2) with input as hidden dimension size and output would be number of classes in the dataset\n",
        "        \n",
        "        ### write your code below [0.1 points] ##\n",
        "        self.conv1 = GCNConv(dataset.num_features, hidden_channels)\n",
        "        self.conv2 = GCNConv(hidden_channels, hidden_channels)\n",
        "\n",
        "        #########################################\n",
        "\n",
        "    def forward(self, data):\n",
        "        out = None\n",
        "\n",
        "        # Step 1: Using the node features and the edge_index, compute intermediate representation via the first GCNConv layer\n",
        "        # Step 2: Apply the ReLU non-linearity on the output of self.conv1\n",
        "        # Step 3: Apply dropout\n",
        "        # Step 4: Pass the output of step 3 through the second convolutional layer to get output embeddings \n",
        "\n",
        "        ### write your code below [0.2 points] ##\n",
        "\n",
        "        # step1\n",
        "        data = dataset[0].to(device)\n",
        "        features = data.x\n",
        "        labels = data.y\n",
        "\n",
        "        # step2\n",
        "        features = self.conv1(features, data.edge_index)\n",
        "        features = features.relu()\n",
        "\n",
        "        # step3\n",
        "        features = F.dropout(features, p=self.dropout_p, training=self.training)\n",
        "\n",
        "        # step4\n",
        "        out = self.conv2(features, data.edge_index)\n",
        "\n",
        "        #########################################\n",
        "\n",
        "        return out"
      ]
    },
    {
      "cell_type": "code",
      "execution_count": 54,
      "metadata": {
        "id": "c7Lr4Wa17tP3",
        "colab": {
          "base_uri": "https://localhost:8080/",
          "height": 0
        },
        "outputId": "10656cbb-644f-47d5-8ca5-74242aaf0249"
      },
      "outputs": [
        {
          "output_type": "stream",
          "name": "stdout",
          "text": [
            "GCN(\n",
            "  (dec): Linear(in_features=32, out_features=1, bias=True)\n",
            "  (conv1): GCNConv(3703, 16)\n",
            "  (conv2): GCNConv(16, 16)\n",
            ")\n"
          ]
        }
      ],
      "source": [
        "# Hyperparameters of the model. DO NOT CHANGE.\n",
        "hidden_channels = 16\n",
        "dropout_probability = 0.2\n",
        "\n",
        "gcn_model = GCN(dataset, hidden_channels=hidden_channels, dropout_probability=dropout_probability).to(device)\n",
        "print(gcn_model)\n"
      ]
    },
    {
      "cell_type": "markdown",
      "metadata": {
        "id": "XZtmyE87NT67"
      },
      "source": [
        "**Training loop**"
      ]
    },
    {
      "cell_type": "code",
      "execution_count": 55,
      "metadata": {
        "id": "ND-Fhkn0NT7D",
        "colab": {
          "base_uri": "https://localhost:8080/",
          "height": 0
        },
        "outputId": "d7a4355d-fc77-42eb-e89e-c9ae206e956f"
      },
      "outputs": [
        {
          "output_type": "stream",
          "name": "stdout",
          "text": [
            "Epoch: 010, Training Loss: 1.3860 Validation Loss: 1.3853\n",
            "Epoch: 020, Training Loss: 1.3846 Validation Loss: 1.3845\n",
            "Epoch: 030, Training Loss: 1.3830 Validation Loss: 1.3832\n",
            "Epoch: 040, Training Loss: 1.3809 Validation Loss: 1.3814\n",
            "Epoch: 050, Training Loss: 1.3778 Validation Loss: 1.3793\n",
            "Epoch: 060, Training Loss: 1.3762 Validation Loss: 1.3769\n",
            "Epoch: 070, Training Loss: 1.3714 Validation Loss: 1.3743\n",
            "Epoch: 080, Training Loss: 1.3695 Validation Loss: 1.3715\n",
            "Epoch: 090, Training Loss: 1.3648 Validation Loss: 1.3682\n",
            "Epoch: 100, Training Loss: 1.3626 Validation Loss: 1.3642\n",
            "Epoch: 110, Training Loss: 1.3547 Validation Loss: 1.3591\n",
            "Epoch: 120, Training Loss: 1.3487 Validation Loss: 1.3523\n",
            "Epoch: 130, Training Loss: 1.3350 Validation Loss: 1.3439\n",
            "Epoch: 140, Training Loss: 1.3257 Validation Loss: 1.3341\n",
            "Epoch: 150, Training Loss: 1.3113 Validation Loss: 1.3235\n",
            "Epoch: 160, Training Loss: 1.2946 Validation Loss: 1.3130\n",
            "Epoch: 170, Training Loss: 1.2931 Validation Loss: 1.3030\n",
            "Epoch: 180, Training Loss: 1.2791 Validation Loss: 1.2937\n",
            "Epoch: 190, Training Loss: 1.2586 Validation Loss: 1.2857\n",
            "Epoch: 200, Training Loss: 1.2564 Validation Loss: 1.2802\n"
          ]
        }
      ],
      "source": [
        "# Let us train this model.\n",
        "torch.manual_seed(42)\n",
        "\n",
        "# Hyperparameters of the model. DO NOT CHANGE.\n",
        "num_epochs = 200 # Number of epochs\n",
        "lr = 0.001 # learning rate, also called step size sometimes\n",
        "wd = 1e-4 # Weight decay, regularization parameter (ensures that we don't overfit to the training data)\n",
        "\n",
        "optimizer = optimizer_fn (gcn_model, lr, wd)\n",
        "\n",
        "training_loss = []\n",
        "validation_loss = []\n",
        "\n",
        "for epoch in range(1, num_epochs+1):\n",
        "    train_loss = train_lp (gcn_model, data, criterion, optimizer)\n",
        "    val_loss = validate_lp (gcn_model, data, criterion)\n",
        "    training_loss.append(train_loss)\n",
        "    validation_loss.append(val_loss)\n",
        "    train_loss = sum(train_loss)\n",
        "    # Print loss values every 10 epochs\n",
        "    if epoch%10 == 0:\n",
        "      print(f'Epoch: {epoch:03d}, Training Loss: {train_loss:.4f} Validation Loss: {val_loss:.4f}')"
      ]
    },
    {
      "cell_type": "markdown",
      "metadata": {
        "id": "VSe59Q89NT7D"
      },
      "source": [
        "**Plotting the loss curves**"
      ]
    },
    {
      "cell_type": "code",
      "execution_count": 56,
      "metadata": {
        "id": "fJsH0g86NT7D",
        "colab": {
          "base_uri": "https://localhost:8080/",
          "height": 281
        },
        "outputId": "67c4d134-c3f2-426a-cebe-6c052114d1b6"
      },
      "outputs": [
        {
          "output_type": "display_data",
          "data": {
            "text/plain": [
              "<Figure size 432x288 with 1 Axes>"
            ],
            "image/png": "[encoded data removed]"
          },
          "metadata": {
            "needs_background": "light"
          }
        }
      ],
      "source": [
        "import matplotlib.pyplot as plt\n",
        "%matplotlib inline\n",
        "\n",
        "plt.plot(range(len(training_loss)), [x[0] + x[1] for x in training_loss], color='green', label='train loss')\n",
        "plt.plot(range(len(validation_loss)), validation_loss, color='red', label='val loss')\n",
        "plt.legend()\n",
        "plt.title(\"Train & Val loss plot\")\n",
        "plt.show()"
      ]
    },
    {
      "cell_type": "code",
      "execution_count": 57,
      "metadata": {
        "id": "rejDsGQgKh7g",
        "colab": {
          "base_uri": "https://localhost:8080/",
          "height": 281
        },
        "outputId": "55c3a87e-9dcb-4c12-eee1-025835a9aff9"
      },
      "outputs": [
        {
          "output_type": "display_data",
          "data": {
            "text/plain": [
              "<Figure size 432x288 with 1 Axes>"
            ],
            "image/png": "[encoded data removed]"
          },
          "metadata": {
            "needs_background": "light"
          }
        }
      ],
      "source": [
        "plt.plot(range(len(training_loss)), [x[0] for x in training_loss], color='blue', label='train loss pos')\n",
        "plt.plot(range(len(training_loss)), [x[1] for x in training_loss], color='pink', label='train loss neg')\n",
        "plt.legend()\n",
        "plt.title(\"Train loss plot\")\n",
        "plt.show()"
      ]
    },
    {
      "cell_type": "markdown",
      "metadata": {
        "id": "evG6CIw-ewWX"
      },
      "source": [
        "**Evaluation**"
      ]
    },
    {
      "cell_type": "code",
      "execution_count": 58,
      "metadata": {
        "id": "25dKPCQWNT7D",
        "colab": {
          "base_uri": "https://localhost:8080/",
          "height": 0
        },
        "outputId": "b0a7e06f-cffc-462f-cbde-1b8e73c60670"
      },
      "outputs": [
        {
          "output_type": "stream",
          "name": "stdout",
          "text": [
            "Train AUC: 0.6922, Val AUC: 0.6460, Test AUC: 0.6570\n",
            "Sanity check for Test AUC: True\n"
          ]
        }
      ],
      "source": [
        "gcn_model.eval()\n",
        "with torch.no_grad():\n",
        "    train_auc = evaluate_auc(gcn_model, data, data.train_mask, data.train_y)\n",
        "    val_auc = evaluate_auc(gcn_model, data, data.val_mask, data.val_y)\n",
        "    test_auc = evaluate_auc(gcn_model, data, data.test_mask, data.test_y)\n",
        "    print (f'Train AUC: {train_auc:0.4f}, Val AUC: {val_auc:0.4f}, Test AUC: {test_auc:0.4f}')\n",
        "    print (f'Sanity check for Test AUC: {test_auc >= 0.65}')"
      ]
    },
    {
      "cell_type": "markdown",
      "metadata": {
        "id": "VUo55w06Ukt_"
      },
      "source": [
        "## Section 2.5: Questions [0.6 points]"
      ]
    },
    {
      "cell_type": "markdown",
      "metadata": {
        "id": "mocLzSpNZ9Gv"
      },
      "source": [
        "Q. Why does MLP not improve the performance significantly over the memorization model in this case? [0.1 points]"
      ]
    },
    {
      "cell_type": "markdown",
      "metadata": {
        "id": "fqimdm6_aMNg"
      },
      "source": [
        "> One reason why MLP might not improve performance significantly is because the graph making link predictions is more related to the structure of the graph rather than the characteristics of the nodes themselves. MLP uses linear layers to understand some of the graph structure, but not enough to make a significant difference when predicting links."
      ]
    },
    {
      "cell_type": "markdown",
      "metadata": {
        "id": "fv77GaM6UqC4"
      },
      "source": [
        "Q. Why does GCN perform so much better than MLP for link prediction? [0.1 points]"
      ]
    },
    {
      "cell_type": "markdown",
      "metadata": {
        "id": "KPXVuhc0VJst"
      },
      "source": [
        "> GCN improves link predictions significantly because the convolution layers allow for the model to capture nonlinear relationships between the nodes. This ability to understand graph structure better is more important when predicting links than classifying nodes, which is why a more complicated model works much better."
      ]
    },
    {
      "cell_type": "markdown",
      "metadata": {
        "id": "txkPtm6xGrNF"
      },
      "source": [
        "Q. Compare the shape of training and validation loss curves observed for node classification and link prediction? How are they different? What could be reason why you observe sinusoid-like loss in one versus the other? [0.2 points]"
      ]
    },
    {
      "cell_type": "markdown",
      "metadata": {
        "id": "8aazAfZbG47Z"
      },
      "source": [
        "> For node classification, the training and validation loss curves generally decrease monotonically, whereas they have a sinusoid-like loss shape for link prediction. For node classification, we use a negative log-likelihood function, which produces a value of 0 to infinity, whereas the binary cross entropy function used for link prediction produces values between 0 and 1 -- this explains why the loss values fall between some range, instead of increasing or decreasing indefinitely. Additionally, it appears that there is no convergence in link prediction losses because the models are unable to fully capture the complexity and nonlinearity in in the graph, even if we use a GCN."
      ]
    },
    {
      "cell_type": "markdown",
      "metadata": {
        "id": "me7k--erbjBD"
      },
      "source": [
        "Q. What can you do in the training to improve the performance even more? Give at least 2 suggestions. [0.2 points]"
      ]
    },
    {
      "cell_type": "markdown",
      "metadata": {
        "id": "usQjcIhDivB6"
      },
      "source": [
        "> 1. Utilize MLPInit: Gaining inspiration from the guest speaker from LinkedIn, perhaps we can initialize the weights of the GNN training with a simple MLP. Instead of starting from scratch, we would have a better baseline/framework to train the graph, which might provide faster convergence and give us a loss graph that is not sinusoidal. On the datasets used in the paper, MLPInit improved accuracy significantly and decreased the time taken to train the GNN.\n",
        "\n",
        "> 2. Tune the hyperparameters: There are several hyperparameters in MLP and GCN, including learning rate, weight decay, and dropout probability. Tuning these hyperparameters may improve performance significantly. For instance, dropout is a regularization method that essentially randomly \"drops out\" neurons to make sure some weights in the neural net are not outrageously high, aiming to prevent overfitting when training. We can improve this by testing different values for dropout proportion, or even try to implement other regularization techniques like Ridge or Lasso."
      ]
    }
  ],
  "metadata": {
    "accelerator": "GPU",
    "colab": {
      "collapsed_sections": [
        "IcztBoBiYB2d",
        "tEN_Vzyxdvlo",
        "GnvDJ2GLUuNu",
        "i0zS4HNjHS_7",
        "RNiQHGuvu0kq",
        "BK95jL5K8z28",
        "_5Pi_3Hw8h8-",
        "dAtSFe_a7tP2",
        "KXhVHCjx7tP3",
        "VUo55w06Ukt_"
      ],
      "provenance": []
    },
    "gpuClass": "standard",
    "kernelspec": {
      "display_name": "Python 3",
      "name": "python3"
    },
    "language_info": {
      "name": "python"
    }
  },
  "nbformat": 4,
  "nbformat_minor": 0
}